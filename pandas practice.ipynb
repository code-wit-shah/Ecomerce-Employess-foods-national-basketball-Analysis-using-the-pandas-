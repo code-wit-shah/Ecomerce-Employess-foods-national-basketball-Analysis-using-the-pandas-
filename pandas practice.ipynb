{
 "cells": [
  {
   "cell_type": "code",
   "execution_count": 5,
   "id": "c8fea239-edfc-403d-a0fc-0e8bb0ac7dcf",
   "metadata": {},
   "outputs": [],
   "source": []
  },
  {
   "cell_type": "code",
   "execution_count": 8,
   "id": "819c2b72-3c9c-4c5e-a0f2-2dd82a7490ed",
   "metadata": {},
   "outputs": [
    {
     "data": {
      "text/plain": [
       "12"
      ]
     },
     "execution_count": 8,
     "metadata": {},
     "output_type": "execute_result"
    }
   ],
   "source": [
    "12"
   ]
  },
  {
   "cell_type": "code",
   "execution_count": 10,
   "id": "44abe85b-eabb-4164-89f1-a38ff35cc8e1",
   "metadata": {},
   "outputs": [
    {
     "data": {
      "text/plain": [
       "-4563"
      ]
     },
     "execution_count": 10,
     "metadata": {},
     "output_type": "execute_result"
    }
   ],
   "source": [
    "-4563"
   ]
  },
  {
   "cell_type": "code",
   "execution_count": 13,
   "id": "35d82593-5954-4c5a-8a8d-87a0ebb018ea",
   "metadata": {},
   "outputs": [
    {
     "data": {
      "text/plain": [
       "'mUHAMMAD sHAHBAZ'"
      ]
     },
     "execution_count": 13,
     "metadata": {},
     "output_type": "execute_result"
    }
   ],
   "source": [
    "\"mUHAMMAD sHAHBAZ\""
   ]
  },
  {
   "cell_type": "code",
   "execution_count": 15,
   "id": "e3774f61-ce81-4dbb-8ce6-f90317015e98",
   "metadata": {},
   "outputs": [
    {
     "data": {
      "text/plain": [
       "12.2"
      ]
     },
     "execution_count": 15,
     "metadata": {},
     "output_type": "execute_result"
    }
   ],
   "source": [
    "12.2"
   ]
  },
  {
   "cell_type": "code",
   "execution_count": 18,
   "id": "f49fe298-6bdf-4744-9f9b-96cf4c46619b",
   "metadata": {},
   "outputs": [
    {
     "data": {
      "text/plain": [
       "False"
      ]
     },
     "execution_count": 18,
     "metadata": {},
     "output_type": "execute_result"
    }
   ],
   "source": [
    "True\n",
    "False"
   ]
  },
  {
   "cell_type": "code",
   "execution_count": 19,
   "id": "d08ade53-6f11-419f-a7c1-63b8bb25d419",
   "metadata": {},
   "outputs": [
    {
     "data": {
      "text/plain": [
       "True"
      ]
     },
     "execution_count": 19,
     "metadata": {},
     "output_type": "execute_result"
    }
   ],
   "source": [
    "12>3"
   ]
  },
  {
   "cell_type": "code",
   "execution_count": 27,
   "id": "a86dc466-15b7-4c8e-b579-bfd4c5062186",
   "metadata": {},
   "outputs": [],
   "source": [
    "None"
   ]
  },
  {
   "cell_type": "code",
   "execution_count": 28,
   "id": "10527389-9c22-42c1-af1f-759b0ecb2e6a",
   "metadata": {},
   "outputs": [
    {
     "data": {
      "text/plain": [
       "47"
      ]
     },
     "execution_count": 28,
     "metadata": {},
     "output_type": "execute_result"
    }
   ],
   "source": [
    "12+35"
   ]
  },
  {
   "cell_type": "code",
   "execution_count": 29,
   "id": "e77d549d-d3d9-42b1-b565-d38acb542151",
   "metadata": {},
   "outputs": [
    {
     "data": {
      "text/plain": [
       "20.8"
      ]
     },
     "execution_count": 29,
     "metadata": {},
     "output_type": "execute_result"
    }
   ],
   "source": [
    "14.3+6.5"
   ]
  },
  {
   "cell_type": "code",
   "execution_count": 33,
   "id": "f90d2bfa-2095-4e50-bbfd-f66e7d9015b5",
   "metadata": {},
   "outputs": [
    {
     "data": {
      "text/plain": [
       "'Muhammad Shahbaz'"
      ]
     },
     "execution_count": 33,
     "metadata": {},
     "output_type": "execute_result"
    }
   ],
   "source": [
    "\"Muhammad \"+\"Shahbaz\""
   ]
  },
  {
   "cell_type": "code",
   "execution_count": 34,
   "id": "313d87d0-e16b-4365-9e33-c7eec14d7513",
   "metadata": {},
   "outputs": [
    {
     "data": {
      "text/plain": [
       "9"
      ]
     },
     "execution_count": 34,
     "metadata": {},
     "output_type": "execute_result"
    }
   ],
   "source": [
    "12-3"
   ]
  },
  {
   "cell_type": "code",
   "execution_count": 35,
   "id": "bcfd9b74-eae1-4477-acfa-8b47f1bac6a6",
   "metadata": {},
   "outputs": [
    {
     "data": {
      "text/plain": [
       "315"
      ]
     },
     "execution_count": 35,
     "metadata": {},
     "output_type": "execute_result"
    }
   ],
   "source": [
    "9*35"
   ]
  },
  {
   "cell_type": "code",
   "execution_count": 36,
   "id": "7779c583-517a-499d-b4d9-601ee6730b69",
   "metadata": {},
   "outputs": [
    {
     "data": {
      "text/plain": [
       "'ShahbazShahbazShahbaz'"
      ]
     },
     "execution_count": 36,
     "metadata": {},
     "output_type": "execute_result"
    }
   ],
   "source": [
    "\"Shahbaz\"*3"
   ]
  },
  {
   "cell_type": "code",
   "execution_count": null,
   "id": "dc8e42fa-f9c9-4104-aadb-a4317a4f9b26",
   "metadata": {},
   "outputs": [],
   "source": [
    "#pandas\n",
    "#paranthesis exponents Multiplication division addition Subtraction "
   ]
  },
  {
   "cell_type": "code",
   "execution_count": 37,
   "id": "2a8934e6-bb65-48bc-a2d2-a9d7707bd460",
   "metadata": {},
   "outputs": [
    {
     "data": {
      "text/plain": [
       "-65"
      ]
     },
     "execution_count": 37,
     "metadata": {},
     "output_type": "execute_result"
    }
   ],
   "source": [
    "3+4-8*9"
   ]
  },
  {
   "cell_type": "code",
   "execution_count": 38,
   "id": "0c92fbcd-7c14-4a2b-9bfe-5046fb5f62cb",
   "metadata": {},
   "outputs": [
    {
     "data": {
      "text/plain": [
       "10"
      ]
     },
     "execution_count": 38,
     "metadata": {},
     "output_type": "execute_result"
    }
   ],
   "source": [
    "(2+3)*2"
   ]
  },
  {
   "cell_type": "code",
   "execution_count": 40,
   "id": "ac650e72-09dd-4025-8091-5644fcc9320c",
   "metadata": {},
   "outputs": [
    {
     "data": {
      "text/plain": [
       "5.0"
      ]
     },
     "execution_count": 40,
     "metadata": {},
     "output_type": "execute_result"
    }
   ],
   "source": [
    "15/3"
   ]
  },
  {
   "cell_type": "code",
   "execution_count": 41,
   "id": "32a75d44-ffd4-4a9b-8994-4f26b1cf6975",
   "metadata": {},
   "outputs": [
    {
     "data": {
      "text/plain": [
       "3.3333333333333335"
      ]
     },
     "execution_count": 41,
     "metadata": {},
     "output_type": "execute_result"
    }
   ],
   "source": [
    "10/3"
   ]
  },
  {
   "cell_type": "code",
   "execution_count": 42,
   "id": "1822faa1-1389-4432-a084-c8f08df2426e",
   "metadata": {},
   "outputs": [
    {
     "data": {
      "text/plain": [
       "3"
      ]
     },
     "execution_count": 42,
     "metadata": {},
     "output_type": "execute_result"
    }
   ],
   "source": [
    " 10//3"
   ]
  },
  {
   "cell_type": "code",
   "execution_count": 43,
   "id": "f5885a46-2e7a-4ff7-9446-09bab0df19ce",
   "metadata": {},
   "outputs": [
    {
     "data": {
      "text/plain": [
       "2"
      ]
     },
     "execution_count": 43,
     "metadata": {},
     "output_type": "execute_result"
    }
   ],
   "source": [
    "14%3"
   ]
  },
  {
   "cell_type": "code",
   "execution_count": 44,
   "id": "c57a7b8d-b6b8-4174-a91b-30749643f18f",
   "metadata": {},
   "outputs": [
    {
     "data": {
      "text/plain": [
       "0"
      ]
     },
     "execution_count": 44,
     "metadata": {},
     "output_type": "execute_result"
    }
   ],
   "source": [
    "8%4"
   ]
  },
  {
   "cell_type": "code",
   "execution_count": 50,
   "id": "c1f76112-7df0-424d-acd8-3a2ff5c1c03e",
   "metadata": {},
   "outputs": [
    {
     "data": {
      "text/plain": [
       "False"
      ]
     },
     "execution_count": 50,
     "metadata": {},
     "output_type": "execute_result"
    }
   ],
   "source": [
    "#equality operator\n",
    "2==21\n",
    "3==3\n",
    "5.0==5\n",
    "52==7"
   ]
  },
  {
   "cell_type": "code",
   "execution_count": 51,
   "id": "dca62fea-53e8-4b57-b498-55344778e248",
   "metadata": {},
   "outputs": [
    {
     "data": {
      "text/plain": [
       "True"
      ]
     },
     "execution_count": 51,
     "metadata": {},
     "output_type": "execute_result"
    }
   ],
   "source": [
    "\"Shahbaz\"==\"Shahbaz\""
   ]
  },
  {
   "cell_type": "code",
   "execution_count": 52,
   "id": "b1ea21b9-98f3-4fed-9dcc-08d4fc86ddb0",
   "metadata": {},
   "outputs": [
    {
     "data": {
      "text/plain": [
       "True"
      ]
     },
     "execution_count": 52,
     "metadata": {},
     "output_type": "execute_result"
    }
   ],
   "source": [
    "\"Hello\"==\"Hello\""
   ]
  },
  {
   "cell_type": "code",
   "execution_count": 53,
   "id": "dd1f6bd1-241f-4fbe-9fb7-3ee77110d994",
   "metadata": {},
   "outputs": [
    {
     "data": {
      "text/plain": [
       "False"
      ]
     },
     "execution_count": 53,
     "metadata": {},
     "output_type": "execute_result"
    }
   ],
   "source": [
    "\"shahbaz\"==\"Shahbaz\""
   ]
  },
  {
   "cell_type": "code",
   "execution_count": 54,
   "id": "afb15ca8-5eb1-4109-b0ba-978bf9fbb947",
   "metadata": {},
   "outputs": [
    {
     "data": {
      "text/plain": [
       "True"
      ]
     },
     "execution_count": 54,
     "metadata": {},
     "output_type": "execute_result"
    }
   ],
   "source": [
    "True==True"
   ]
  },
  {
   "cell_type": "code",
   "execution_count": 59,
   "id": "beb22afb-7663-4002-8291-05e7bdb900ea",
   "metadata": {},
   "outputs": [
    {
     "data": {
      "text/plain": [
       "False"
      ]
     },
     "execution_count": 59,
     "metadata": {},
     "output_type": "execute_result"
    }
   ],
   "source": [
    "False==False\n",
    "True==False\n",
    "False==True"
   ]
  },
  {
   "cell_type": "code",
   "execution_count": 60,
   "id": "93ce5224-38e4-41b7-b4c5-7b31e065cbba",
   "metadata": {},
   "outputs": [],
   "source": [
    "# in equality operator "
   ]
  },
  {
   "cell_type": "code",
   "execution_count": 62,
   "id": "13224f90-0e89-4303-bc48-5150e876acc3",
   "metadata": {},
   "outputs": [
    {
     "data": {
      "text/plain": [
       "False"
      ]
     },
     "execution_count": 62,
     "metadata": {},
     "output_type": "execute_result"
    }
   ],
   "source": [
    "5!=6\n",
    "5!=5"
   ]
  },
  {
   "cell_type": "code",
   "execution_count": 66,
   "id": "a55cbd22-2431-48ce-a064-730e88ed1e38",
   "metadata": {},
   "outputs": [
    {
     "data": {
      "text/plain": [
       "False"
      ]
     },
     "execution_count": 66,
     "metadata": {},
     "output_type": "execute_result"
    }
   ],
   "source": [
    "5<=10\n",
    "5>=7"
   ]
  },
  {
   "cell_type": "code",
   "execution_count": 68,
   "id": "08a77ff0-e0cf-49c7-8dd4-7e99788d0f18",
   "metadata": {},
   "outputs": [],
   "source": [
    "age=29"
   ]
  },
  {
   "cell_type": "code",
   "execution_count": 69,
   "id": "053f575a-c959-40d4-a36c-fba1de3848c0",
   "metadata": {},
   "outputs": [
    {
     "data": {
      "text/plain": [
       "29"
      ]
     },
     "execution_count": 69,
     "metadata": {},
     "output_type": "execute_result"
    }
   ],
   "source": [
    "age"
   ]
  },
  {
   "cell_type": "code",
   "execution_count": 70,
   "id": "2db044d5-545c-4d14-8cb6-f3a552a120c7",
   "metadata": {},
   "outputs": [
    {
     "data": {
      "text/plain": [
       "41"
      ]
     },
     "execution_count": 70,
     "metadata": {},
     "output_type": "execute_result"
    }
   ],
   "source": [
    "age+12\n"
   ]
  },
  {
   "cell_type": "code",
   "execution_count": 76,
   "id": "29cbf714-62c2-464a-8368-a4a339a49c95",
   "metadata": {},
   "outputs": [],
   "source": [
    "price=12.3\n",
    "first_name=\"Boris\"\n",
    "profession=\"software engeenier\"\n",
    "is_handsome=True"
   ]
  },
  {
   "cell_type": "code",
   "execution_count": 75,
   "id": "35d5ee07-7fb2-428e-b2e7-99aa4750380c",
   "metadata": {},
   "outputs": [
    {
     "data": {
      "text/plain": [
       "12.3"
      ]
     },
     "execution_count": 75,
     "metadata": {},
     "output_type": "execute_result"
    }
   ],
   "source": [
    "price"
   ]
  },
  {
   "cell_type": "code",
   "execution_count": 77,
   "id": "6fe6e679-2a48-4607-8ba7-a3eb69a487fd",
   "metadata": {},
   "outputs": [
    {
     "data": {
      "text/plain": [
       "'Boris'"
      ]
     },
     "execution_count": 77,
     "metadata": {},
     "output_type": "execute_result"
    }
   ],
   "source": [
    "first_name"
   ]
  },
  {
   "cell_type": "code",
   "execution_count": 78,
   "id": "412a93a7-03d5-4dae-a7f0-072ac2ebaace",
   "metadata": {},
   "outputs": [
    {
     "data": {
      "text/plain": [
       "'software engeenier'"
      ]
     },
     "execution_count": 78,
     "metadata": {},
     "output_type": "execute_result"
    }
   ],
   "source": [
    "profession"
   ]
  },
  {
   "cell_type": "code",
   "execution_count": 80,
   "id": "ffb480d9-d4de-4436-a70b-6a5a70b2f15e",
   "metadata": {},
   "outputs": [
    {
     "data": {
      "text/plain": [
       "True"
      ]
     },
     "execution_count": 80,
     "metadata": {},
     "output_type": "execute_result"
    }
   ],
   "source": [
    "is_handsome"
   ]
  },
  {
   "cell_type": "code",
   "execution_count": 82,
   "id": "2261324b-65a2-49cf-b5e5-f8c64f0e135e",
   "metadata": {},
   "outputs": [
    {
     "data": {
      "text/plain": [
       "'Boris is awosome'"
      ]
     },
     "execution_count": 82,
     "metadata": {},
     "output_type": "execute_result"
    }
   ],
   "source": [
    "  first_name+\" is awosome\""
   ]
  },
  {
   "cell_type": "code",
   "execution_count": 83,
   "id": "ce1ba5ee-2d09-4e15-9185-e11bfaf4d39d",
   "metadata": {},
   "outputs": [
    {
     "data": {
      "text/plain": [
       "29"
      ]
     },
     "execution_count": 83,
     "metadata": {},
     "output_type": "execute_result"
    }
   ],
   "source": [
    "age"
   ]
  },
  {
   "cell_type": "code",
   "execution_count": 84,
   "id": "b1aba82f-1adb-4b54-b71d-d79d5f6a3dd6",
   "metadata": {},
   "outputs": [],
   "source": [
    "profession=\"python devolper\""
   ]
  },
  {
   "cell_type": "code",
   "execution_count": 86,
   "id": "cf1c6d8b-4269-4430-8f2d-b15ceb1ba29b",
   "metadata": {},
   "outputs": [
    {
     "data": {
      "text/plain": [
       "'python devolper'"
      ]
     },
     "execution_count": 86,
     "metadata": {},
     "output_type": "execute_result"
    }
   ],
   "source": [
    "profession"
   ]
  },
  {
   "cell_type": "code",
   "execution_count": 137,
   "id": "496768fc-66a7-4133-9f7e-c7109d7ef83d",
   "metadata": {},
   "outputs": [
    {
     "data": {
      "text/plain": [
       "27"
      ]
     },
     "execution_count": 137,
     "metadata": {},
     "output_type": "execute_result"
    }
   ],
   "source": [
    "len(\"MuhammadshabazlivesinMultan\")"
   ]
  },
  {
   "cell_type": "code",
   "execution_count": 138,
   "id": "d45dbb9b-6902-462b-b654-efff1bb9d625",
   "metadata": {},
   "outputs": [
    {
     "data": {
      "text/plain": [
       "'3.14'"
      ]
     },
     "execution_count": 138,
     "metadata": {},
     "output_type": "execute_result"
    }
   ],
   "source": [
    "str(3.14)"
   ]
  },
  {
   "cell_type": "code",
   "execution_count": 139,
   "id": "a20a608f-dd39-491f-ba7b-70730a477a58",
   "metadata": {},
   "outputs": [
    {
     "data": {
      "text/plain": [
       "10"
      ]
     },
     "execution_count": 139,
     "metadata": {},
     "output_type": "execute_result"
    }
   ],
   "source": [
    "int(\"10\")"
   ]
  },
  {
   "cell_type": "code",
   "execution_count": 140,
   "id": "faec4252-d94e-48c6-a1a1-9d129a6aea91",
   "metadata": {},
   "outputs": [
    {
     "data": {
      "text/plain": [
       "6.36"
      ]
     },
     "execution_count": 140,
     "metadata": {},
     "output_type": "execute_result"
    }
   ],
   "source": [
    "float(\"6.36\")"
   ]
  },
  {
   "cell_type": "code",
   "execution_count": 141,
   "id": "e051153f-645d-48d4-aba1-7025146b68e5",
   "metadata": {},
   "outputs": [
    {
     "data": {
      "text/plain": [
       "int"
      ]
     },
     "execution_count": 141,
     "metadata": {},
     "output_type": "execute_result"
    }
   ],
   "source": [
    "type(5)"
   ]
  },
  {
   "cell_type": "code",
   "execution_count": 144,
   "id": "37126e28-07ab-4c91-8720-ad59ec7cad48",
   "metadata": {},
   "outputs": [
    {
     "data": {
      "text/plain": [
       "str"
      ]
     },
     "execution_count": 144,
     "metadata": {},
     "output_type": "execute_result"
    }
   ],
   "source": [
    "type(\"shahbaz\")"
   ]
  },
  {
   "cell_type": "code",
   "execution_count": 145,
   "id": "a1b8c6e4-74da-4656-b44b-f8d60f3a7885",
   "metadata": {},
   "outputs": [
    {
     "data": {
      "text/plain": [
       "bool"
      ]
     },
     "execution_count": 145,
     "metadata": {},
     "output_type": "execute_result"
    }
   ],
   "source": [
    " type(True)"
   ]
  },
  {
   "cell_type": "code",
   "execution_count": 146,
   "id": "e39b2e65-6f27-40ba-907f-471b1bcf69ef",
   "metadata": {},
   "outputs": [
    {
     "data": {
      "text/plain": [
       "bool"
      ]
     },
     "execution_count": 146,
     "metadata": {},
     "output_type": "execute_result"
    }
   ],
   "source": [
    "type(False)"
   ]
  },
  {
   "cell_type": "code",
   "execution_count": 147,
   "id": "28c963fd-0b3f-4588-a6e9-feb463e44849",
   "metadata": {},
   "outputs": [
    {
     "data": {
      "text/plain": [
       "True"
      ]
     },
     "execution_count": 147,
     "metadata": {},
     "output_type": "execute_result"
    }
   ],
   "source": [
    "type(10)==type(15)"
   ]
  },
  {
   "cell_type": "code",
   "execution_count": 148,
   "id": "966fedc5-73a7-4699-91a4-190b20fd9974",
   "metadata": {},
   "outputs": [
    {
     "data": {
      "text/plain": [
       "True"
      ]
     },
     "execution_count": 148,
     "metadata": {},
     "output_type": "execute_result"
    }
   ],
   "source": [
    "type(\"Shabaz\")==type(\"Ali\")"
   ]
  },
  {
   "cell_type": "code",
   "execution_count": 149,
   "id": "19877182-23eb-41cf-af2d-f6b4a7b791b7",
   "metadata": {},
   "outputs": [
    {
     "data": {
      "text/plain": [
       "True"
      ]
     },
     "execution_count": 149,
     "metadata": {},
     "output_type": "execute_result"
    }
   ],
   "source": [
    "type(3.21)==type(10.12)"
   ]
  },
  {
   "cell_type": "code",
   "execution_count": 161,
   "id": "fc5d30b6-82ec-42c8-95a1-c67bde64e88c",
   "metadata": {},
   "outputs": [],
   "source": [
    "def con_to_fer(c_t=0):\n",
    "    p=c_t*1.8\n",
    "    return p+2"
   ]
  },
  {
   "cell_type": "code",
   "execution_count": 151,
   "id": "c6add134-a541-46ae-9bbb-958a5ad456c4",
   "metadata": {},
   "outputs": [
    {
     "data": {
      "text/plain": [
       "3.8"
      ]
     },
     "execution_count": 151,
     "metadata": {},
     "output_type": "execute_result"
    }
   ],
   "source": [
    "con_to_fer(1)"
   ]
  },
  {
   "cell_type": "code",
   "execution_count": 152,
   "id": "0eee1441-9bf4-42bc-9705-81f8b6c1c830",
   "metadata": {},
   "outputs": [
    {
     "data": {
      "text/plain": [
       "7.4"
      ]
     },
     "execution_count": 152,
     "metadata": {},
     "output_type": "execute_result"
    }
   ],
   "source": [
    "con_to_fer(c_t=3)"
   ]
  },
  {
   "cell_type": "code",
   "execution_count": 162,
   "id": "64685259-a96c-41d9-badf-b97a00269ee1",
   "metadata": {},
   "outputs": [
    {
     "data": {
      "text/plain": [
       "2.0"
      ]
     },
     "execution_count": 162,
     "metadata": {},
     "output_type": "execute_result"
    }
   ],
   "source": [
    "con_to_fer()"
   ]
  },
  {
   "cell_type": "code",
   "execution_count": 163,
   "id": "0fa452e6-a3ec-4589-bada-377605ca62a8",
   "metadata": {},
   "outputs": [],
   "source": [
    "profession=\"Shahbaz \"\n"
   ]
  },
  {
   "cell_type": "code",
   "execution_count": 164,
   "id": "a9145e4b-4e23-4996-a229-1c1956789824",
   "metadata": {},
   "outputs": [
    {
     "data": {
      "text/plain": [
       "'SHAHBAZ '"
      ]
     },
     "execution_count": 164,
     "metadata": {},
     "output_type": "execute_result"
    }
   ],
   "source": [
    "profession.upper()"
   ]
  },
  {
   "cell_type": "code",
   "execution_count": 165,
   "id": "908c5b6a-70ba-486b-8a34-b09f50e16e80",
   "metadata": {},
   "outputs": [
    {
     "data": {
      "text/plain": [
       "'SHAHBAZ'"
      ]
     },
     "execution_count": 165,
     "metadata": {},
     "output_type": "execute_result"
    }
   ],
   "source": [
    "\"shahbaz\".upper()"
   ]
  },
  {
   "cell_type": "code",
   "execution_count": 166,
   "id": "f2621ec3-6842-43cb-a8a2-0cb60af2c0c5",
   "metadata": {},
   "outputs": [
    {
     "data": {
      "text/plain": [
       "'shahbaz '"
      ]
     },
     "execution_count": 166,
     "metadata": {},
     "output_type": "execute_result"
    }
   ],
   "source": [
    " profession.lower()"
   ]
  },
  {
   "cell_type": "code",
   "execution_count": 167,
   "id": "6a512015-f628-4847-b011-bda10d9d9f6b",
   "metadata": {},
   "outputs": [
    {
     "data": {
      "text/plain": [
       "'shahbaz'"
      ]
     },
     "execution_count": 167,
     "metadata": {},
     "output_type": "execute_result"
    }
   ],
   "source": [
    "\"Shahbaz\".lower()"
   ]
  },
  {
   "cell_type": "code",
   "execution_count": 168,
   "id": "a2edc013-c464-4927-83de-36db0310ffe7",
   "metadata": {},
   "outputs": [
    {
     "data": {
      "text/plain": [
       "'sHAHBAZ '"
      ]
     },
     "execution_count": 168,
     "metadata": {},
     "output_type": "execute_result"
    }
   ],
   "source": [
    "profession.swapcase()"
   ]
  },
  {
   "cell_type": "code",
   "execution_count": 169,
   "id": "ff3cda51-e47b-4d08-9f17-4bca2c79f8ac",
   "metadata": {},
   "outputs": [
    {
     "data": {
      "text/plain": [
       "'My Name Is Shahbaz '"
      ]
     },
     "execution_count": 169,
     "metadata": {},
     "output_type": "execute_result"
    }
   ],
   "source": [
    "\"my name is shahbaz \".title()"
   ]
  },
  {
   "cell_type": "code",
   "execution_count": 170,
   "id": "4da7cbcc-6aba-4291-8e2d-6a5c1a7aa303",
   "metadata": {},
   "outputs": [
    {
     "data": {
      "text/plain": [
       "'My name is shahbaz '"
      ]
     },
     "execution_count": 170,
     "metadata": {},
     "output_type": "execute_result"
    }
   ],
   "source": [
    "\"my name is shahbaz \".capitalize()"
   ]
  },
  {
   "cell_type": "code",
   "execution_count": 171,
   "id": "13038733-e5f5-4ee7-96a7-ad1b9b44b8dc",
   "metadata": {},
   "outputs": [],
   "source": [
    "name=\"    Shahbaz      \" "
   ]
  },
  {
   "cell_type": "code",
   "execution_count": 173,
   "id": "792fd610-5c52-4166-b256-354720f6bc50",
   "metadata": {},
   "outputs": [
    {
     "data": {
      "text/plain": [
       "'Shahbaz      '"
      ]
     },
     "execution_count": 173,
     "metadata": {},
     "output_type": "execute_result"
    }
   ],
   "source": [
    "name.lstrip()"
   ]
  },
  {
   "cell_type": "code",
   "execution_count": 174,
   "id": "6605d92a-ad48-4fe4-bf7d-0f499af3a61e",
   "metadata": {},
   "outputs": [
    {
     "data": {
      "text/plain": [
       "'    Shahbaz'"
      ]
     },
     "execution_count": 174,
     "metadata": {},
     "output_type": "execute_result"
    }
   ],
   "source": [
    "name.rstrip()"
   ]
  },
  {
   "cell_type": "code",
   "execution_count": 175,
   "id": "79080b2a-9159-4dfa-b544-d8db657d326f",
   "metadata": {},
   "outputs": [
    {
     "data": {
      "text/plain": [
       "'Shahbaz'"
      ]
     },
     "execution_count": 175,
     "metadata": {},
     "output_type": "execute_result"
    }
   ],
   "source": [
    "name.strip()"
   ]
  },
  {
   "cell_type": "code",
   "execution_count": 176,
   "id": "306ec0aa-c777-4847-a672-83eafa947c79",
   "metadata": {},
   "outputs": [
    {
     "data": {
      "text/plain": [
       "'    Shehbez      '"
      ]
     },
     "execution_count": 176,
     "metadata": {},
     "output_type": "execute_result"
    }
   ],
   "source": [
    "name.replace(\"a\",\"e\")"
   ]
  },
  {
   "cell_type": "code",
   "execution_count": 177,
   "id": "311ff22c-022c-4001-9bd8-a590af228120",
   "metadata": {},
   "outputs": [
    {
     "data": {
      "text/plain": [
       "'Shehbez'"
      ]
     },
     "execution_count": 177,
     "metadata": {},
     "output_type": "execute_result"
    }
   ],
   "source": [
    "name.strip().replace(\"a\",\"e\")"
   ]
  },
  {
   "cell_type": "code",
   "execution_count": 179,
   "id": "c40616e6-ea05-4589-beb3-dcdffb9be0e6",
   "metadata": {},
   "outputs": [],
   "source": [
    "name=\"MuhammadShahbaz\""
   ]
  },
  {
   "cell_type": "code",
   "execution_count": 183,
   "id": "eb5c153e-3765-4767-8a6a-27666b890835",
   "metadata": {},
   "outputs": [
    {
     "data": {
      "text/plain": [
       "True"
      ]
     },
     "execution_count": 183,
     "metadata": {},
     "output_type": "execute_result"
    }
   ],
   "source": [
    "name.startswith(\"Muhamma\")"
   ]
  },
  {
   "cell_type": "code",
   "execution_count": 185,
   "id": "fbc1bc90-ab49-4778-8463-b36bb0b30887",
   "metadata": {},
   "outputs": [
    {
     "data": {
      "text/plain": [
       "True"
      ]
     },
     "execution_count": 185,
     "metadata": {},
     "output_type": "execute_result"
    }
   ],
   "source": [
    "name.endswith(\"baz\")"
   ]
  },
  {
   "cell_type": "code",
   "execution_count": 186,
   "id": "beda7b2c-a259-46ba-8643-8eae4d4c206f",
   "metadata": {},
   "outputs": [
    {
     "data": {
      "text/plain": [
       "True"
      ]
     },
     "execution_count": 186,
     "metadata": {},
     "output_type": "execute_result"
    }
   ],
   "source": [
    "name.endswith(\"z\")"
   ]
  },
  {
   "cell_type": "code",
   "execution_count": 187,
   "id": "69f149dd-dd96-4b45-a959-65bc19bf2d92",
   "metadata": {},
   "outputs": [
    {
     "data": {
      "text/plain": [
       "False"
      ]
     },
     "execution_count": 187,
     "metadata": {},
     "output_type": "execute_result"
    }
   ],
   "source": [
    "name.endswith(\"a\")"
   ]
  },
  {
   "cell_type": "code",
   "execution_count": 188,
   "id": "a68547c1-e5c1-43d9-ba31-7f000330ac6d",
   "metadata": {},
   "outputs": [
    {
     "data": {
      "text/plain": [
       "False"
      ]
     },
     "execution_count": 188,
     "metadata": {},
     "output_type": "execute_result"
    }
   ],
   "source": [
    "\"sha\" in name"
   ]
  },
  {
   "cell_type": "code",
   "execution_count": 189,
   "id": "34d23ddd-f774-44fc-8210-0fc7e470390b",
   "metadata": {},
   "outputs": [
    {
     "data": {
      "text/plain": [
       "True"
      ]
     },
     "execution_count": 189,
     "metadata": {},
     "output_type": "execute_result"
    }
   ],
   "source": [
    "\"Sha\" in name"
   ]
  },
  {
   "cell_type": "code",
   "execution_count": 192,
   "id": "38c580a6-879c-4f59-a175-62260fe2156b",
   "metadata": {},
   "outputs": [
    {
     "data": {
      "text/plain": [
       "True"
      ]
     },
     "execution_count": 192,
     "metadata": {},
     "output_type": "execute_result"
    }
   ],
   "source": [
    "\"Muhammad\" in name"
   ]
  },
  {
   "cell_type": "code",
   "execution_count": 193,
   "id": "c2e199d2-09ad-44c2-ac15-9cf31639ff93",
   "metadata": {},
   "outputs": [
    {
     "data": {
      "text/plain": [
       "True"
      ]
     },
     "execution_count": 193,
     "metadata": {},
     "output_type": "execute_result"
    }
   ],
   "source": [
    "\"ali\" not in name\n"
   ]
  },
  {
   "cell_type": "code",
   "execution_count": 194,
   "id": "7666ae71-8a35-4aab-bff5-a4d4393558f5",
   "metadata": {},
   "outputs": [
    {
     "data": {
      "text/plain": [
       "False"
      ]
     },
     "execution_count": 194,
     "metadata": {},
     "output_type": "execute_result"
    }
   ],
   "source": [
    "\"ali\" in name"
   ]
  },
  {
   "cell_type": "code",
   "execution_count": 195,
   "id": "27ac2c32-0687-42fb-bd61-fbfc5507dc75",
   "metadata": {},
   "outputs": [
    {
     "data": {
      "text/plain": [
       "[1, 2, 3, 4]"
      ]
     },
     "execution_count": 195,
     "metadata": {},
     "output_type": "execute_result"
    }
   ],
   "source": [
    "[1,2,3,4]"
   ]
  },
  {
   "cell_type": "code",
   "execution_count": 197,
   "id": "5c5e2740-16fc-44bf-aa56-3cb2ca58ed64",
   "metadata": {},
   "outputs": [
    {
     "data": {
      "text/plain": [
       "[True, False, True, False]"
      ]
     },
     "execution_count": 197,
     "metadata": {},
     "output_type": "execute_result"
    }
   ],
   "source": [
    "[True,False,True,False]"
   ]
  },
  {
   "cell_type": "code",
   "execution_count": 198,
   "id": "e7304dbf-26fa-49fe-b85e-fdd3fce0062f",
   "metadata": {},
   "outputs": [],
   "source": [
    "a=[\"Muhammad \",\"Shahbaz\"]"
   ]
  },
  {
   "cell_type": "code",
   "execution_count": 199,
   "id": "9b75eadd-85fc-41a0-9042-3cced183e7ca",
   "metadata": {},
   "outputs": [
    {
     "data": {
      "text/plain": [
       "['Muhammad ', 'Shahbaz']"
      ]
     },
     "execution_count": 199,
     "metadata": {},
     "output_type": "execute_result"
    }
   ],
   "source": [
    "a"
   ]
  },
  {
   "cell_type": "code",
   "execution_count": 200,
   "id": "1193b0d0-a675-4737-9af5-0e19bac3d33e",
   "metadata": {},
   "outputs": [
    {
     "data": {
      "text/plain": [
       "[]"
      ]
     },
     "execution_count": 200,
     "metadata": {},
     "output_type": "execute_result"
    }
   ],
   "source": [
    "[]"
   ]
  },
  {
   "cell_type": "code",
   "execution_count": 201,
   "id": "70a5ffe7-2b0f-4181-87dd-8a60b6f8d455",
   "metadata": {},
   "outputs": [
    {
     "data": {
      "text/plain": [
       "2"
      ]
     },
     "execution_count": 201,
     "metadata": {},
     "output_type": "execute_result"
    }
   ],
   "source": [
    "len(a)"
   ]
  },
  {
   "cell_type": "code",
   "execution_count": 202,
   "id": "987a086e-84dd-4546-afa2-62ec8f3e49ce",
   "metadata": {},
   "outputs": [
    {
     "data": {
      "text/plain": [
       "list"
      ]
     },
     "execution_count": 202,
     "metadata": {},
     "output_type": "execute_result"
    }
   ],
   "source": [
    "type(a)"
   ]
  },
  {
   "cell_type": "code",
   "execution_count": 203,
   "id": "75773b29-e783-4da5-a670-823af76b48e3",
   "metadata": {},
   "outputs": [],
   "source": [
    "a.append(\"choudhary\")"
   ]
  },
  {
   "cell_type": "code",
   "execution_count": 204,
   "id": "fd44d766-a6d1-4a85-965c-ea986e2b3913",
   "metadata": {},
   "outputs": [
    {
     "data": {
      "text/plain": [
       "['Muhammad ', 'Shahbaz', 'choudhary']"
      ]
     },
     "execution_count": 204,
     "metadata": {},
     "output_type": "execute_result"
    }
   ],
   "source": [
    "a"
   ]
  },
  {
   "cell_type": "code",
   "execution_count": 205,
   "id": "2f6b7ecf-68fe-484d-bc5e-fb8ea001521f",
   "metadata": {},
   "outputs": [
    {
     "data": {
      "text/plain": [
       "'choudhary'"
      ]
     },
     "execution_count": 205,
     "metadata": {},
     "output_type": "execute_result"
    }
   ],
   "source": [
    "a.pop()"
   ]
  },
  {
   "cell_type": "code",
   "execution_count": 206,
   "id": "3d317e0d-faa7-49a7-ab63-813ae9eeeda9",
   "metadata": {},
   "outputs": [
    {
     "data": {
      "text/plain": [
       "['Muhammad ', 'Shahbaz']"
      ]
     },
     "execution_count": 206,
     "metadata": {},
     "output_type": "execute_result"
    }
   ],
   "source": [
    "a"
   ]
  },
  {
   "cell_type": "code",
   "execution_count": 207,
   "id": "17bebc41-eb8b-427e-beb2-8ca0730a2228",
   "metadata": {},
   "outputs": [],
   "source": [
    "a.remove(\"Shahbaz\")"
   ]
  },
  {
   "cell_type": "code",
   "execution_count": 208,
   "id": "1bcfad76-cf67-4a71-9ba4-fc44e3f11fe8",
   "metadata": {},
   "outputs": [
    {
     "data": {
      "text/plain": [
       "['Muhammad ']"
      ]
     },
     "execution_count": 208,
     "metadata": {},
     "output_type": "execute_result"
    }
   ],
   "source": [
    "a"
   ]
  },
  {
   "cell_type": "code",
   "execution_count": 209,
   "id": "29e5f891-ba66-4438-bd83-dff610375fba",
   "metadata": {},
   "outputs": [
    {
     "data": {
      "text/plain": [
       "True"
      ]
     },
     "execution_count": 209,
     "metadata": {},
     "output_type": "execute_result"
    }
   ],
   "source": [
    "\"shah\" in \"Muhammadshahbaz\""
   ]
  },
  {
   "cell_type": "code",
   "execution_count": 210,
   "id": "44d67d4b-eb16-427a-9d33-d84ebacab8ac",
   "metadata": {},
   "outputs": [
    {
     "data": {
      "text/plain": [
       "['Multan', 'Lahor', 'islamabad', 'karachi']"
      ]
     },
     "execution_count": 210,
     "metadata": {},
     "output_type": "execute_result"
    }
   ],
   "source": [
    "a=[\"Multan\",\"Lahor\",\"islamabad\",\"karachi\"]\n",
    "a"
   ]
  },
  {
   "cell_type": "code",
   "execution_count": 213,
   "id": "3b8e7c85-9023-4bc1-9f11-0ece0e16b759",
   "metadata": {},
   "outputs": [
    {
     "data": {
      "text/plain": [
       "True"
      ]
     },
     "execution_count": 213,
     "metadata": {},
     "output_type": "execute_result"
    }
   ],
   "source": [
    "\"Multan\" in a\n"
   ]
  },
  {
   "cell_type": "code",
   "execution_count": 217,
   "id": "fdc92fd4-da93-4410-84e4-841bfdad97c0",
   "metadata": {},
   "outputs": [
    {
     "data": {
      "text/plain": [
       "True"
      ]
     },
     "execution_count": 217,
     "metadata": {},
     "output_type": "execute_result"
    }
   ],
   "source": [
    "\"pindi\" not in a"
   ]
  },
  {
   "cell_type": "code",
   "execution_count": 218,
   "id": "ef7224f6-f075-43fa-b068-d073a48f0937",
   "metadata": {},
   "outputs": [
    {
     "data": {
      "text/plain": [
       "False"
      ]
     },
     "execution_count": 218,
     "metadata": {},
     "output_type": "execute_result"
    }
   ],
   "source": [
    "\"Multan\" not in a"
   ]
  },
  {
   "cell_type": "code",
   "execution_count": 219,
   "id": "2555f26b-3873-4f0c-be58-5a6d115369a8",
   "metadata": {},
   "outputs": [
    {
     "data": {
      "text/plain": [
       "'Shahbaz'"
      ]
     },
     "execution_count": 219,
     "metadata": {},
     "output_type": "execute_result"
    }
   ],
   "source": [
    "name=\"Shahbaz\"\n",
    "name"
   ]
  },
  {
   "cell_type": "code",
   "execution_count": 220,
   "id": "8b2dc2c9-73fc-41cb-91da-8e17ead341b1",
   "metadata": {},
   "outputs": [
    {
     "data": {
      "text/plain": [
       "7"
      ]
     },
     "execution_count": 220,
     "metadata": {},
     "output_type": "execute_result"
    }
   ],
   "source": [
    "len(name)"
   ]
  },
  {
   "cell_type": "code",
   "execution_count": 221,
   "id": "b070b93a-e2cd-44d2-8ab1-319aa6bc5b1e",
   "metadata": {},
   "outputs": [
    {
     "data": {
      "text/plain": [
       "'S'"
      ]
     },
     "execution_count": 221,
     "metadata": {},
     "output_type": "execute_result"
    }
   ],
   "source": [
    "name[0]"
   ]
  },
  {
   "cell_type": "code",
   "execution_count": 222,
   "id": "465ad7f1-48b8-4215-a814-d9dc8b155fc9",
   "metadata": {},
   "outputs": [
    {
     "data": {
      "text/plain": [
       "'a'"
      ]
     },
     "execution_count": 222,
     "metadata": {},
     "output_type": "execute_result"
    }
   ],
   "source": [
    "name[-2]"
   ]
  },
  {
   "cell_type": "code",
   "execution_count": null,
   "id": "23ab8a3d-27c6-4987-bfed-987251c9dfc1",
   "metadata": {},
   "outputs": [],
   "source": [
    "a=[\"Multan\",\"Lahor\",\"islamabad\",\"karachi\"]\n"
   ]
  },
  {
   "cell_type": "code",
   "execution_count": 223,
   "id": "2ea23ee8-0dc6-4c7e-92e5-84fffe89c7c3",
   "metadata": {},
   "outputs": [
    {
     "data": {
      "text/plain": [
       "4"
      ]
     },
     "execution_count": 223,
     "metadata": {},
     "output_type": "execute_result"
    }
   ],
   "source": [
    "len(a)"
   ]
  },
  {
   "cell_type": "code",
   "execution_count": 224,
   "id": "38664ca5-2ac6-4524-9d15-bbeb41144b4e",
   "metadata": {},
   "outputs": [
    {
     "data": {
      "text/plain": [
       "'Multan'"
      ]
     },
     "execution_count": 224,
     "metadata": {},
     "output_type": "execute_result"
    }
   ],
   "source": [
    "a[0]"
   ]
  },
  {
   "cell_type": "code",
   "execution_count": 225,
   "id": "6c4a6f8c-d6bf-44b2-a4ac-f9916d75f808",
   "metadata": {},
   "outputs": [
    {
     "data": {
      "text/plain": [
       "'islamabad'"
      ]
     },
     "execution_count": 225,
     "metadata": {},
     "output_type": "execute_result"
    }
   ],
   "source": [
    "a[-2]"
   ]
  },
  {
   "cell_type": "code",
   "execution_count": 227,
   "id": "2e10909e-50df-4db3-a43a-55cb9cf697c5",
   "metadata": {},
   "outputs": [
    {
     "data": {
      "text/plain": [
       "['Multan', 'Lahor']"
      ]
     },
     "execution_count": 227,
     "metadata": {},
     "output_type": "execute_result"
    }
   ],
   "source": [
    "a[0:2]"
   ]
  },
  {
   "cell_type": "code",
   "execution_count": 228,
   "id": "b716741a-7a9c-420d-a326-bd0b729f8212",
   "metadata": {},
   "outputs": [
    {
     "data": {
      "text/plain": [
       "['Lahor', 'islamabad', 'karachi']"
      ]
     },
     "execution_count": 228,
     "metadata": {},
     "output_type": "execute_result"
    }
   ],
   "source": [
    "a[1:5]"
   ]
  },
  {
   "cell_type": "code",
   "execution_count": 232,
   "id": "360dd1d8-1e8b-4de4-8d6a-5bf121007c89",
   "metadata": {},
   "outputs": [
    {
     "data": {
      "text/plain": [
       "['Lahor', 'islamabad', 'karachi']"
      ]
     },
     "execution_count": 232,
     "metadata": {},
     "output_type": "execute_result"
    }
   ],
   "source": [
    "a[1:]"
   ]
  },
  {
   "cell_type": "code",
   "execution_count": 233,
   "id": "3674b28c-486d-45df-8ba0-aace632947c0",
   "metadata": {},
   "outputs": [
    {
     "data": {
      "text/plain": [
       "['Multan', 'Lahor', 'islamabad', 'karachi']"
      ]
     },
     "execution_count": 233,
     "metadata": {},
     "output_type": "execute_result"
    }
   ],
   "source": [
    "a[:]"
   ]
  },
  {
   "cell_type": "code",
   "execution_count": 234,
   "id": "0cf40116-e7e3-4dd2-87fc-9bd19a1b6edb",
   "metadata": {},
   "outputs": [
    {
     "data": {
      "text/plain": [
       "'hahb'"
      ]
     },
     "execution_count": 234,
     "metadata": {},
     "output_type": "execute_result"
    }
   ],
   "source": [
    "name[1:-2]"
   ]
  },
  {
   "cell_type": "code",
   "execution_count": 241,
   "id": "2d9f9960-c8be-4791-b26e-f042ed0eb45d",
   "metadata": {},
   "outputs": [],
   "source": [
    "menu={\n",
    "    \"pizza\":4.3,\n",
    "     \"nan\":3.2,\n",
    "      \"salmon\":12,\n",
    "      \"rabri\":14,\n",
    "}"
   ]
  },
  {
   "cell_type": "code",
   "execution_count": 242,
   "id": "eb3b688d-2cb2-490c-ac56-f2f277dbdc20",
   "metadata": {},
   "outputs": [
    {
     "data": {
      "text/plain": [
       "{'pizza': 4.3, 'nan': 3.2, 'salmon': 12, 'rabri': 14}"
      ]
     },
     "execution_count": 242,
     "metadata": {},
     "output_type": "execute_result"
    }
   ],
   "source": [
    "menu"
   ]
  },
  {
   "cell_type": "code",
   "execution_count": 243,
   "id": "0e2f7803-ea96-493a-8232-0fe372866af9",
   "metadata": {},
   "outputs": [
    {
     "data": {
      "text/plain": [
       "4"
      ]
     },
     "execution_count": 243,
     "metadata": {},
     "output_type": "execute_result"
    }
   ],
   "source": [
    "len(menu)"
   ]
  },
  {
   "cell_type": "code",
   "execution_count": 244,
   "id": "8e60d865-038a-4659-ae90-7c29163397e3",
   "metadata": {},
   "outputs": [
    {
     "data": {
      "text/plain": [
       "3.2"
      ]
     },
     "execution_count": 244,
     "metadata": {},
     "output_type": "execute_result"
    }
   ],
   "source": [
    "menu[\"nan\"]"
   ]
  },
  {
   "cell_type": "code",
   "execution_count": 246,
   "id": "b9bc3e96-b2cb-455c-b12d-4bee4aabee41",
   "metadata": {},
   "outputs": [],
   "source": [
    "menu[\"nan\"]=6.5"
   ]
  },
  {
   "cell_type": "code",
   "execution_count": 247,
   "id": "98a7ae7d-9f8d-4ea0-808f-32ada72ba8cf",
   "metadata": {},
   "outputs": [
    {
     "data": {
      "text/plain": [
       "{'pizza': 4.3, 'nan': 6.5, 'salmon': 12, 'rabri': 14}"
      ]
     },
     "execution_count": 247,
     "metadata": {},
     "output_type": "execute_result"
    }
   ],
   "source": [
    "menu"
   ]
  },
  {
   "cell_type": "code",
   "execution_count": 249,
   "id": "a72dc6c5-ebf2-4723-a8d8-b998c9763286",
   "metadata": {},
   "outputs": [
    {
     "data": {
      "text/plain": [
       "6.5"
      ]
     },
     "execution_count": 249,
     "metadata": {},
     "output_type": "execute_result"
    }
   ],
   "source": [
    "menu.pop(\"nan\")"
   ]
  },
  {
   "cell_type": "code",
   "execution_count": 251,
   "id": "518eae74-9d67-4ed7-8f83-c0d2eb58af8f",
   "metadata": {},
   "outputs": [
    {
     "data": {
      "text/plain": [
       "{'pizza': 4.3, 'salmon': 12, 'rabri': 14}"
      ]
     },
     "execution_count": 251,
     "metadata": {},
     "output_type": "execute_result"
    }
   ],
   "source": [
    "menu"
   ]
  },
  {
   "cell_type": "code",
   "execution_count": 255,
   "id": "d6d36b9c-e4df-4975-9563-0ed49b7f08c9",
   "metadata": {},
   "outputs": [
    {
     "data": {
      "text/plain": [
       "True"
      ]
     },
     "execution_count": 255,
     "metadata": {},
     "output_type": "execute_result"
    }
   ],
   "source": [
    "\"salmon\" in menu"
   ]
  },
  {
   "cell_type": "code",
   "execution_count": 256,
   "id": "801ac03d-ae71-4d87-bad9-d18bf68522fb",
   "metadata": {},
   "outputs": [
    {
     "data": {
      "text/plain": [
       "True"
      ]
     },
     "execution_count": 256,
     "metadata": {},
     "output_type": "execute_result"
    }
   ],
   "source": [
    " \"roti\" not in menu"
   ]
  },
  {
   "cell_type": "code",
   "execution_count": 257,
   "id": "963fc6fb-e35d-4fcb-9d19-ffc5ef8a576b",
   "metadata": {},
   "outputs": [
    {
     "data": {
      "text/plain": [
       "False"
      ]
     },
     "execution_count": 257,
     "metadata": {},
     "output_type": "execute_result"
    }
   ],
   "source": [
    "\"roti\" in menu"
   ]
  },
  {
   "cell_type": "code",
   "execution_count": 258,
   "id": "00a6221e-4f46-460c-b0de-4d9853043c2f",
   "metadata": {},
   "outputs": [
    {
     "data": {
      "text/plain": [
       "dict_values([4.3, 12, 14])"
      ]
     },
     "execution_count": 258,
     "metadata": {},
     "output_type": "execute_result"
    }
   ],
   "source": [
    "menu.values()"
   ]
  },
  {
   "cell_type": "code",
   "execution_count": 260,
   "id": "693c1a40-1387-43fe-8734-cd5849653df1",
   "metadata": {},
   "outputs": [
    {
     "data": {
      "text/plain": [
       "True"
      ]
     },
     "execution_count": 260,
     "metadata": {},
     "output_type": "execute_result"
    }
   ],
   "source": [
    "12 in menu.values()"
   ]
  },
  {
   "cell_type": "code",
   "execution_count": null,
   "id": "a7010c45-bed1-49e2-96b2-4686d425b6f2",
   "metadata": {},
   "outputs": [],
   "source": []
  },
  {
   "cell_type": "code",
   "execution_count": null,
   "id": "6c7a458f-3669-48ed-9c52-9de48fc73508",
   "metadata": {},
   "outputs": [],
   "source": []
  },
  {
   "cell_type": "code",
   "execution_count": null,
   "id": "bfb72a1b-350f-4ef6-b75f-65bd57327f3e",
   "metadata": {},
   "outputs": [],
   "source": []
  },
  {
   "cell_type": "code",
   "execution_count": null,
   "id": "2f7cba4f-7fb5-4014-8515-8209684a19a3",
   "metadata": {},
   "outputs": [],
   "source": []
  },
  {
   "cell_type": "code",
   "execution_count": null,
   "id": "944b796c-e5c3-487f-bf52-7790ac804d40",
   "metadata": {},
   "outputs": [],
   "source": []
  },
  {
   "cell_type": "code",
   "execution_count": null,
   "id": "efe4df62-d394-4a49-83a2-2eb8007b1cf0",
   "metadata": {},
   "outputs": [],
   "source": []
  },
  {
   "cell_type": "code",
   "execution_count": null,
   "id": "30ac1d3a-9d2e-484d-abf4-6b503133e3b8",
   "metadata": {},
   "outputs": [],
   "source": []
  },
  {
   "cell_type": "code",
   "execution_count": null,
   "id": "ca5084ff-2948-4c5e-b2cc-6aacd271f2c4",
   "metadata": {},
   "outputs": [],
   "source": []
  },
  {
   "cell_type": "code",
   "execution_count": null,
   "id": "e52eb7af-2e02-4091-a68a-c801f1caa563",
   "metadata": {},
   "outputs": [],
   "source": []
  },
  {
   "cell_type": "code",
   "execution_count": null,
   "id": "a5da23d2-5e0b-44ba-b741-4dcb505cf25a",
   "metadata": {},
   "outputs": [],
   "source": []
  },
  {
   "cell_type": "code",
   "execution_count": null,
   "id": "7287ebb1-2abc-4117-b94d-e695c002d8eb",
   "metadata": {},
   "outputs": [],
   "source": []
  },
  {
   "cell_type": "code",
   "execution_count": null,
   "id": "86975848-bfe2-4ad7-8fee-fa301757c1e9",
   "metadata": {},
   "outputs": [],
   "source": []
  },
  {
   "cell_type": "code",
   "execution_count": null,
   "id": "8188956b-d056-49ed-a9e7-3403e9952ffc",
   "metadata": {},
   "outputs": [],
   "source": []
  },
  {
   "cell_type": "code",
   "execution_count": null,
   "id": "f25067d8-ffa8-4a92-b6bf-dc4395bb92f4",
   "metadata": {},
   "outputs": [],
   "source": []
  },
  {
   "cell_type": "code",
   "execution_count": null,
   "id": "2e654d0b-1356-416c-a525-fb0edc5b91d1",
   "metadata": {},
   "outputs": [],
   "source": []
  },
  {
   "cell_type": "code",
   "execution_count": null,
   "id": "2a04e991-0dd9-48d0-a4ea-116f74ca3cd5",
   "metadata": {},
   "outputs": [],
   "source": []
  },
  {
   "cell_type": "code",
   "execution_count": null,
   "id": "e00d903e-12c2-4c17-9ba8-a8cedf356209",
   "metadata": {},
   "outputs": [],
   "source": []
  },
  {
   "cell_type": "code",
   "execution_count": null,
   "id": "d257cea9-215c-4d6f-ae7f-f6f0412668e9",
   "metadata": {},
   "outputs": [],
   "source": []
  },
  {
   "cell_type": "code",
   "execution_count": null,
   "id": "c27d1dd3-a29b-49dc-a5c0-7a1e2c3773e0",
   "metadata": {},
   "outputs": [],
   "source": []
  }
 ],
 "metadata": {
  "kernelspec": {
   "display_name": "Python 3 (ipykernel)",
   "language": "python",
   "name": "python3"
  },
  "language_info": {
   "codemirror_mode": {
    "name": "ipython",
    "version": 3
   },
   "file_extension": ".py",
   "mimetype": "text/x-python",
   "name": "python",
   "nbconvert_exporter": "python",
   "pygments_lexer": "ipython3",
   "version": "3.11.5"
  }
 },
 "nbformat": 4,
 "nbformat_minor": 5
}
