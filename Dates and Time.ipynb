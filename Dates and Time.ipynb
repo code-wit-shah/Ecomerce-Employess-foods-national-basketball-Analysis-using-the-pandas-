{
 "cells": [
  {
   "cell_type": "code",
   "execution_count": 1,
   "id": "5d35ed5a-fc17-4caa-8734-1f15721772a9",
   "metadata": {},
   "outputs": [],
   "source": [
    "import pandas as pd"
   ]
  },
  {
   "cell_type": "code",
   "execution_count": 2,
   "id": "83d00aeb-a48d-41b1-938c-d533b2a7ce0d",
   "metadata": {},
   "outputs": [],
   "source": [
    "import datetime as dt"
   ]
  },
  {
   "cell_type": "code",
   "execution_count": 5,
   "id": "42f7b006-b886-48f7-8d9b-4d331b990a17",
   "metadata": {},
   "outputs": [],
   "source": [
    "s=dt.date(2010,1,20)"
   ]
  },
  {
   "cell_type": "code",
   "execution_count": 8,
   "id": "1342bd16-3dd8-43a6-a884-a0764385333b",
   "metadata": {},
   "outputs": [
    {
     "data": {
      "text/plain": [
       "20"
      ]
     },
     "execution_count": 8,
     "metadata": {},
     "output_type": "execute_result"
    }
   ],
   "source": [
    "s.year\n",
    "s.month\n",
    "s.day"
   ]
  },
  {
   "cell_type": "code",
   "execution_count": 9,
   "id": "8c1ac3c7-12fc-4d8e-85a2-504e65f412be",
   "metadata": {},
   "outputs": [
    {
     "data": {
      "text/plain": [
       "datetime.datetime(2010, 1, 10, 17, 13, 57)"
      ]
     },
     "execution_count": 9,
     "metadata": {},
     "output_type": "execute_result"
    }
   ],
   "source": [
    "\n",
    "dt.datetime(2010,1,10,17,13,57)"
   ]
  },
  {
   "cell_type": "code",
   "execution_count": 10,
   "id": "486c6a52-35b7-4d11-b9f1-6e18a1101f8d",
   "metadata": {},
   "outputs": [
    {
     "data": {
      "text/plain": [
       "'2010-01-10 17:13:57'"
      ]
     },
     "execution_count": 10,
     "metadata": {},
     "output_type": "execute_result"
    }
   ],
   "source": [
    "\n",
    "str(dt.datetime(2010,1,10,17,13,57))"
   ]
  },
  {
   "cell_type": "code",
   "execution_count": 12,
   "id": "ee44d865-75e4-4ff3-ac0c-a153f5a4bf3e",
   "metadata": {},
   "outputs": [],
   "source": [
    "t=dt.datetime(2010,1,10,17,13,57)"
   ]
  },
  {
   "cell_type": "code",
   "execution_count": 20,
   "id": "b9e0a8e4-c9bd-409b-aae3-aa3cb03cad89",
   "metadata": {},
   "outputs": [
    {
     "data": {
      "text/plain": [
       "57"
      ]
     },
     "execution_count": 20,
     "metadata": {},
     "output_type": "execute_result"
    }
   ],
   "source": [
    "t.year\n",
    "t.month\n",
    "t.day\n",
    "t.hour\n",
    "t.minute\n",
    "t.second"
   ]
  },
  {
   "cell_type": "code",
   "execution_count": 28,
   "id": "390d6d52-c2df-4536-a0a4-104e324850e8",
   "metadata": {},
   "outputs": [
    {
     "data": {
      "text/plain": [
       "Timestamp('2015-03-28 06:13:29')"
      ]
     },
     "execution_count": 28,
     "metadata": {},
     "output_type": "execute_result"
    }
   ],
   "source": [
    "pd.Timestamp(\"2015-03-31\")\n",
    "pd.Timestamp(\"2015/03/31\")\n",
    "pd.Timestamp(\"2013,11,04\")\n",
    "pd.Timestamp(\"1/1/2025\")\n",
    "pd.Timestamp(\"12/19/2015\")\n",
    "pd.Timestamp(\"2015-03-31 08:35:11\")\n",
    "pd.Timestamp(\"2015-03-28 6:13:29\")"
   ]
  },
  {
   "cell_type": "code",
   "execution_count": 30,
   "id": "f9a88f37-2000-4ab6-bd55-b12d247bed9b",
   "metadata": {},
   "outputs": [
    {
     "data": {
      "text/plain": [
       "Timestamp('2015-01-01 00:00:00')"
      ]
     },
     "execution_count": 30,
     "metadata": {},
     "output_type": "execute_result"
    }
   ],
   "source": [
    "pd.Timestamp(dt.date(2015,1,1))"
   ]
  },
  {
   "cell_type": "code",
   "execution_count": 35,
   "id": "b2481510-1617-4f41-b722-8b6eb2e2831f",
   "metadata": {},
   "outputs": [
    {
     "data": {
      "text/plain": [
       "Timestamp('2015-01-01 04:12:57')"
      ]
     },
     "execution_count": 35,
     "metadata": {},
     "output_type": "execute_result"
    }
   ],
   "source": [
    "pd.Timestamp(dt.datetime(2015,1,1,4,12,57))"
   ]
  },
  {
   "cell_type": "code",
   "execution_count": 39,
   "id": "07d0cbcd-4140-4615-bd43-79c90d1f00ab",
   "metadata": {},
   "outputs": [
    {
     "data": {
      "text/plain": [
       "DatetimeIndex(['2010-01-02', '2016-04-12', '2009-09-07'], dtype='datetime64[ns]', freq=None)"
      ]
     },
     "execution_count": 39,
     "metadata": {},
     "output_type": "execute_result"
    }
   ],
   "source": [
    "dates=[\"2010/01/02\",\"2016/04/12\",\"2009/09/07\"]\n",
    "pd.DatetimeIndex(dates)"
   ]
  },
  {
   "cell_type": "code",
   "execution_count": 44,
   "id": "3094c24c-aa4a-414b-948c-00acde0f9126",
   "metadata": {},
   "outputs": [],
   "source": [
    "dates=[dt.date(2016,1,11),dt.date(2016,1,1),dt.date(2016,2,17)]\n",
    "dtIndex=pd.DatetimeIndex(dates)"
   ]
  },
  {
   "cell_type": "code",
   "execution_count": 48,
   "id": "fe242422-03de-4653-85a6-84c94e08cef6",
   "metadata": {},
   "outputs": [
    {
     "data": {
      "text/plain": [
       "2016-01-11    100\n",
       "2016-01-01    200\n",
       "2016-02-17    300\n",
       "dtype: int64"
      ]
     },
     "execution_count": 48,
     "metadata": {},
     "output_type": "execute_result"
    }
   ],
   "source": [
    "values=[100,200,300]\n",
    "pd.Series(data=values,index=dtIndex)"
   ]
  },
  {
   "cell_type": "code",
   "execution_count": 20,
   "id": "514612b1-de00-4cac-8334-190f020fb195",
   "metadata": {},
   "outputs": [
    {
     "data": {
      "text/plain": [
       "Timestamp('2015-01-03 00:00:00')"
      ]
     },
     "execution_count": 20,
     "metadata": {},
     "output_type": "execute_result"
    }
   ],
   "source": [
    "pd.to_datetime(\"2001-04-19\")\n",
    "pd.to_datetime(dt.date(2015,1,1))\n",
    "pd.to_datetime(dt.datetime(2015,1,1,14,35,16))\n",
    "pd.to_datetime(\"2015-01-03\")"
   ]
  },
  {
   "cell_type": "code",
   "execution_count": 19,
   "id": "be1c7601-3121-4f01-868b-d1458201c36b",
   "metadata": {},
   "outputs": [
    {
     "data": {
      "text/plain": [
       "DatetimeIndex(['2015-01-03', 'NaT', 'NaT', 'NaT'], dtype='datetime64[ns]', freq=None)"
      ]
     },
     "execution_count": 19,
     "metadata": {},
     "output_type": "execute_result"
    }
   ],
   "source": [
    "dates = [\"2015-01-03\", \"2014/02/08\", \"2016\", \"july 4th,1996\"]\n",
    "converted_dates = pd.to_datetime(dates, errors='coerce', format='%Y-%m-%d')\n",
    "converted_dates"
   ]
  },
  {
   "cell_type": "code",
   "execution_count": 21,
   "id": "8461530b-670d-48d2-b62e-57804ceb5593",
   "metadata": {},
   "outputs": [
    {
     "data": {
      "text/plain": [
       "0       2015-01-03\n",
       "1       2014,02,08\n",
       "2             2016\n",
       "3    July 4th 1996\n",
       "dtype: object"
      ]
     },
     "execution_count": 21,
     "metadata": {},
     "output_type": "execute_result"
    }
   ],
   "source": [
    "times=pd.Series([\"2015-01-03\",\"2014,02,08\",\"2016\",\"July 4th 1996\"])\n",
    "times"
   ]
  },
  {
   "cell_type": "code",
   "execution_count": 23,
   "id": "1c027936-ceab-4beb-95d3-5faf4e6ea4be",
   "metadata": {},
   "outputs": [
    {
     "data": {
      "text/plain": [
       "0   2015-01-03\n",
       "1          NaT\n",
       "2          NaT\n",
       "3          NaT\n",
       "dtype: datetime64[ns]"
      ]
     },
     "execution_count": 23,
     "metadata": {},
     "output_type": "execute_result"
    }
   ],
   "source": [
    "pd.to_datetime(times,errors=\"coerce\")"
   ]
  },
  {
   "cell_type": "code",
   "execution_count": 26,
   "id": "fa768da5-15b0-4a17-87f1-93a1aad468b5",
   "metadata": {},
   "outputs": [
    {
     "data": {
      "text/plain": [
       "DatetimeIndex(['2016-01-08 07:09:47', '1974-09-08 18:18:45',\n",
       "               '1974-03-15 08:57:54'],\n",
       "              dtype='datetime64[ns]', freq=None)"
      ]
     },
     "execution_count": 26,
     "metadata": {},
     "output_type": "execute_result"
    }
   ],
   "source": [
    "pd.to_datetime([1452236987,147896325,132569874],unit=\"s\")"
   ]
  },
  {
   "cell_type": "code",
   "execution_count": 33,
   "id": "fbfac9d3-aca0-495e-9064-3afb9cd77722",
   "metadata": {},
   "outputs": [],
   "source": [
    "times=pd.date_range(start=\"2016-01-01\",end=\"2016-01-10\",freq=\"D\")"
   ]
  },
  {
   "cell_type": "code",
   "execution_count": 34,
   "id": "2da20d24-6c7f-43f2-ae7e-940adf7ce654",
   "metadata": {},
   "outputs": [
    {
     "data": {
      "text/plain": [
       "pandas.core.indexes.datetimes.DatetimeIndex"
      ]
     },
     "execution_count": 34,
     "metadata": {},
     "output_type": "execute_result"
    }
   ],
   "source": [
    "type(times)"
   ]
  },
  {
   "cell_type": "code",
   "execution_count": 35,
   "id": "96dd4a3d-49b9-4b81-8904-22eda5a07e60",
   "metadata": {},
   "outputs": [
    {
     "data": {
      "text/plain": [
       "pandas._libs.tslibs.timestamps.Timestamp"
      ]
     },
     "execution_count": 35,
     "metadata": {},
     "output_type": "execute_result"
    }
   ],
   "source": [
    " type(times[0])"
   ]
  },
  {
   "cell_type": "code",
   "execution_count": 36,
   "id": "08024445-5848-4f1e-974c-d0f8153df092",
   "metadata": {},
   "outputs": [
    {
     "data": {
      "text/plain": [
       "DatetimeIndex(['2016-01-01', '2016-01-03', '2016-01-05', '2016-01-07',\n",
       "               '2016-01-09'],\n",
       "              dtype='datetime64[ns]', freq='2D')"
      ]
     },
     "execution_count": 36,
     "metadata": {},
     "output_type": "execute_result"
    }
   ],
   "source": [
    "pd.date_range(start=\"2016-01-01\",end=\"2016-01-10\",freq=\"2D\")"
   ]
  },
  {
   "cell_type": "code",
   "execution_count": 37,
   "id": "8745f370-8be4-450e-84b1-fb8d26bebd6a",
   "metadata": {},
   "outputs": [
    {
     "data": {
      "text/plain": [
       "DatetimeIndex(['2016-01-01', '2016-01-04', '2016-01-05', '2016-01-06',\n",
       "               '2016-01-07', '2016-01-08'],\n",
       "              dtype='datetime64[ns]', freq='B')"
      ]
     },
     "execution_count": 37,
     "metadata": {},
     "output_type": "execute_result"
    }
   ],
   "source": [
    "pd.date_range(start=\"2016-01-01\",end=\"2016-01-10\",freq=\"B\")"
   ]
  },
  {
   "cell_type": "code",
   "execution_count": 38,
   "id": "845a7481-e243-437d-8d9e-b3e34c7c2100",
   "metadata": {},
   "outputs": [
    {
     "data": {
      "text/plain": [
       "DatetimeIndex(['2016-01-01', '2016-01-08'], dtype='datetime64[ns]', freq='W-FRI')"
      ]
     },
     "execution_count": 38,
     "metadata": {},
     "output_type": "execute_result"
    }
   ],
   "source": [
    "pd.date_range(start=\"2016-01-01\",end=\"2016-01-10\",freq=\"W-FRI\")"
   ]
  },
  {
   "cell_type": "code",
   "execution_count": 39,
   "id": "e523c659-af3e-4f6a-a22d-fc7cbd5ea615",
   "metadata": {},
   "outputs": [
    {
     "data": {
      "text/plain": [
       "DatetimeIndex(['2016-01-03', '2016-01-10'], dtype='datetime64[ns]', freq='W-SUN')"
      ]
     },
     "execution_count": 39,
     "metadata": {},
     "output_type": "execute_result"
    }
   ],
   "source": [
    "pd.date_range(start=\"2016-01-01\",end=\"2016-01-10\",freq=\"W\")"
   ]
  },
  {
   "cell_type": "code",
   "execution_count": 41,
   "id": "8ff68508-8060-4892-ad48-f3f9107e4863",
   "metadata": {},
   "outputs": [
    {
     "data": {
      "text/plain": [
       "DatetimeIndex(['2016-01-01 00:00:00', '2016-01-01 01:00:00',\n",
       "               '2016-01-01 02:00:00', '2016-01-01 03:00:00',\n",
       "               '2016-01-01 04:00:00', '2016-01-01 05:00:00',\n",
       "               '2016-01-01 06:00:00', '2016-01-01 07:00:00',\n",
       "               '2016-01-01 08:00:00', '2016-01-01 09:00:00',\n",
       "               ...\n",
       "               '2016-01-09 15:00:00', '2016-01-09 16:00:00',\n",
       "               '2016-01-09 17:00:00', '2016-01-09 18:00:00',\n",
       "               '2016-01-09 19:00:00', '2016-01-09 20:00:00',\n",
       "               '2016-01-09 21:00:00', '2016-01-09 22:00:00',\n",
       "               '2016-01-09 23:00:00', '2016-01-10 00:00:00'],\n",
       "              dtype='datetime64[ns]', length=217, freq='H')"
      ]
     },
     "execution_count": 41,
     "metadata": {},
     "output_type": "execute_result"
    }
   ],
   "source": [
    "pd.date_range(start=\"2016-01-01\",end=\"2016-01-10\",freq=\"H\")"
   ]
  },
  {
   "cell_type": "code",
   "execution_count": 42,
   "id": "1fd50ded-2b0d-4b91-a073-36ad4997bfb0",
   "metadata": {},
   "outputs": [
    {
     "data": {
      "text/plain": [
       "DatetimeIndex(['2016-01-01 00:00:00', '2016-01-01 06:00:00',\n",
       "               '2016-01-01 12:00:00', '2016-01-01 18:00:00',\n",
       "               '2016-01-02 00:00:00', '2016-01-02 06:00:00',\n",
       "               '2016-01-02 12:00:00', '2016-01-02 18:00:00',\n",
       "               '2016-01-03 00:00:00', '2016-01-03 06:00:00',\n",
       "               '2016-01-03 12:00:00', '2016-01-03 18:00:00',\n",
       "               '2016-01-04 00:00:00', '2016-01-04 06:00:00',\n",
       "               '2016-01-04 12:00:00', '2016-01-04 18:00:00',\n",
       "               '2016-01-05 00:00:00', '2016-01-05 06:00:00',\n",
       "               '2016-01-05 12:00:00', '2016-01-05 18:00:00',\n",
       "               '2016-01-06 00:00:00', '2016-01-06 06:00:00',\n",
       "               '2016-01-06 12:00:00', '2016-01-06 18:00:00',\n",
       "               '2016-01-07 00:00:00', '2016-01-07 06:00:00',\n",
       "               '2016-01-07 12:00:00', '2016-01-07 18:00:00',\n",
       "               '2016-01-08 00:00:00', '2016-01-08 06:00:00',\n",
       "               '2016-01-08 12:00:00', '2016-01-08 18:00:00',\n",
       "               '2016-01-09 00:00:00', '2016-01-09 06:00:00',\n",
       "               '2016-01-09 12:00:00', '2016-01-09 18:00:00',\n",
       "               '2016-01-10 00:00:00'],\n",
       "              dtype='datetime64[ns]', freq='6H')"
      ]
     },
     "execution_count": 42,
     "metadata": {},
     "output_type": "execute_result"
    }
   ],
   "source": [
    "pd.date_range(start=\"2016-01-01\",end=\"2016-01-10\",freq=\"6H\")"
   ]
  },
  {
   "cell_type": "code",
   "execution_count": 43,
   "id": "010c796e-cf7b-48d4-903d-39c597f3f099",
   "metadata": {},
   "outputs": [
    {
     "data": {
      "text/plain": [
       "DatetimeIndex([], dtype='datetime64[ns]', freq='M')"
      ]
     },
     "execution_count": 43,
     "metadata": {},
     "output_type": "execute_result"
    }
   ],
   "source": [
    "pd.date_range(start=\"2016-01-01\",end=\"2016-01-10\",freq=\"M\")"
   ]
  },
  {
   "cell_type": "code",
   "execution_count": 45,
   "id": "93fe7f94-4d82-44f8-a9f3-4690be8fba85",
   "metadata": {},
   "outputs": [
    {
     "data": {
      "text/plain": [
       "DatetimeIndex(['2016-12-31', '2017-12-31', '2018-12-31', '2019-12-31',\n",
       "               '2020-12-31', '2021-12-31', '2022-12-31', '2023-12-31',\n",
       "               '2024-12-31', '2025-12-31', '2026-12-31', '2027-12-31',\n",
       "               '2028-12-31', '2029-12-31', '2030-12-31', '2031-12-31',\n",
       "               '2032-12-31', '2033-12-31', '2034-12-31', '2035-12-31',\n",
       "               '2036-12-31', '2037-12-31', '2038-12-31', '2039-12-31',\n",
       "               '2040-12-31', '2041-12-31', '2042-12-31', '2043-12-31',\n",
       "               '2044-12-31', '2045-12-31', '2046-12-31', '2047-12-31',\n",
       "               '2048-12-31', '2049-12-31'],\n",
       "              dtype='datetime64[ns]', freq='A-DEC')"
      ]
     },
     "execution_count": 45,
     "metadata": {},
     "output_type": "execute_result"
    }
   ],
   "source": [
    "pd.date_range(start=\"2016-01-01\",end=\"2050-01-10\",freq=\"A\")"
   ]
  },
  {
   "cell_type": "code",
   "execution_count": 47,
   "id": "5694e0d7-6ddc-4652-a197-8d2bb216c111",
   "metadata": {},
   "outputs": [
    {
     "data": {
      "text/plain": [
       "DatetimeIndex(['2016-01-01', '2016-02-01', '2016-03-01', '2016-04-01',\n",
       "               '2016-05-01', '2016-06-01', '2016-07-01', '2016-08-01',\n",
       "               '2016-09-01', '2016-10-01', '2016-11-01', '2016-12-01'],\n",
       "              dtype='datetime64[ns]', freq='MS')"
      ]
     },
     "execution_count": 47,
     "metadata": {},
     "output_type": "execute_result"
    }
   ],
   "source": [
    "pd.date_range(start=\"2016-01-01\",end=\"2016-12-10\",freq=\"MS\")"
   ]
  },
  {
   "cell_type": "code",
   "execution_count": 48,
   "id": "c0f9b5b9-650b-4689-8aaf-97f65d4e425c",
   "metadata": {},
   "outputs": [
    {
     "data": {
      "text/plain": [
       "DatetimeIndex(['2012-09-10', '2012-09-11', '2012-09-12', '2012-09-13',\n",
       "               '2012-09-14', '2012-09-17', '2012-09-18', '2012-09-19',\n",
       "               '2012-09-20', '2012-09-21', '2012-09-24', '2012-09-25',\n",
       "               '2012-09-26', '2012-09-27', '2012-09-28', '2012-10-01',\n",
       "               '2012-10-02', '2012-10-03', '2012-10-04', '2012-10-05',\n",
       "               '2012-10-08', '2012-10-09', '2012-10-10', '2012-10-11',\n",
       "               '2012-10-12', '2012-10-15', '2012-10-16', '2012-10-17',\n",
       "               '2012-10-18', '2012-10-19', '2012-10-22', '2012-10-23',\n",
       "               '2012-10-24', '2012-10-25', '2012-10-26', '2012-10-29',\n",
       "               '2012-10-30', '2012-10-31', '2012-11-01', '2012-11-02',\n",
       "               '2012-11-05', '2012-11-06', '2012-11-07', '2012-11-08',\n",
       "               '2012-11-09', '2012-11-12', '2012-11-13', '2012-11-14',\n",
       "               '2012-11-15', '2012-11-16'],\n",
       "              dtype='datetime64[ns]', freq='B')"
      ]
     },
     "execution_count": 48,
     "metadata": {},
     "output_type": "execute_result"
    }
   ],
   "source": [
    "pd.date_range(start=\"2012-09-09\",periods=50,freq=\"B\")"
   ]
  },
  {
   "cell_type": "code",
   "execution_count": 49,
   "id": "abdf5688-2815-4d38-b9da-67470c88231a",
   "metadata": {},
   "outputs": [
    {
     "data": {
      "text/plain": [
       "DatetimeIndex(['1999-12-02 03:00:00', '1999-12-02 10:00:00',\n",
       "               '1999-12-02 17:00:00', '1999-12-03 00:00:00',\n",
       "               '1999-12-03 07:00:00', '1999-12-03 14:00:00',\n",
       "               '1999-12-03 21:00:00', '1999-12-04 04:00:00',\n",
       "               '1999-12-04 11:00:00', '1999-12-04 18:00:00',\n",
       "               '1999-12-05 01:00:00', '1999-12-05 08:00:00',\n",
       "               '1999-12-05 15:00:00', '1999-12-05 22:00:00',\n",
       "               '1999-12-06 05:00:00', '1999-12-06 12:00:00',\n",
       "               '1999-12-06 19:00:00', '1999-12-07 02:00:00',\n",
       "               '1999-12-07 09:00:00', '1999-12-07 16:00:00',\n",
       "               '1999-12-07 23:00:00', '1999-12-08 06:00:00',\n",
       "               '1999-12-08 13:00:00', '1999-12-08 20:00:00',\n",
       "               '1999-12-09 03:00:00', '1999-12-09 10:00:00',\n",
       "               '1999-12-09 17:00:00', '1999-12-10 00:00:00',\n",
       "               '1999-12-10 07:00:00', '1999-12-10 14:00:00',\n",
       "               '1999-12-10 21:00:00', '1999-12-11 04:00:00',\n",
       "               '1999-12-11 11:00:00', '1999-12-11 18:00:00',\n",
       "               '1999-12-12 01:00:00', '1999-12-12 08:00:00',\n",
       "               '1999-12-12 15:00:00', '1999-12-12 22:00:00',\n",
       "               '1999-12-13 05:00:00', '1999-12-13 12:00:00',\n",
       "               '1999-12-13 19:00:00', '1999-12-14 02:00:00',\n",
       "               '1999-12-14 09:00:00', '1999-12-14 16:00:00',\n",
       "               '1999-12-14 23:00:00', '1999-12-15 06:00:00',\n",
       "               '1999-12-15 13:00:00', '1999-12-15 20:00:00',\n",
       "               '1999-12-16 03:00:00', '1999-12-16 10:00:00',\n",
       "               '1999-12-16 17:00:00', '1999-12-17 00:00:00',\n",
       "               '1999-12-17 07:00:00', '1999-12-17 14:00:00',\n",
       "               '1999-12-17 21:00:00', '1999-12-18 04:00:00',\n",
       "               '1999-12-18 11:00:00', '1999-12-18 18:00:00',\n",
       "               '1999-12-19 01:00:00', '1999-12-19 08:00:00',\n",
       "               '1999-12-19 15:00:00', '1999-12-19 22:00:00',\n",
       "               '1999-12-20 05:00:00', '1999-12-20 12:00:00',\n",
       "               '1999-12-20 19:00:00', '1999-12-21 02:00:00',\n",
       "               '1999-12-21 09:00:00', '1999-12-21 16:00:00',\n",
       "               '1999-12-21 23:00:00', '1999-12-22 06:00:00',\n",
       "               '1999-12-22 13:00:00', '1999-12-22 20:00:00',\n",
       "               '1999-12-23 03:00:00', '1999-12-23 10:00:00',\n",
       "               '1999-12-23 17:00:00', '1999-12-24 00:00:00',\n",
       "               '1999-12-24 07:00:00', '1999-12-24 14:00:00',\n",
       "               '1999-12-24 21:00:00', '1999-12-25 04:00:00',\n",
       "               '1999-12-25 11:00:00', '1999-12-25 18:00:00',\n",
       "               '1999-12-26 01:00:00', '1999-12-26 08:00:00',\n",
       "               '1999-12-26 15:00:00', '1999-12-26 22:00:00',\n",
       "               '1999-12-27 05:00:00', '1999-12-27 12:00:00',\n",
       "               '1999-12-27 19:00:00', '1999-12-28 02:00:00',\n",
       "               '1999-12-28 09:00:00', '1999-12-28 16:00:00',\n",
       "               '1999-12-28 23:00:00', '1999-12-29 06:00:00',\n",
       "               '1999-12-29 13:00:00', '1999-12-29 20:00:00',\n",
       "               '1999-12-30 03:00:00', '1999-12-30 10:00:00',\n",
       "               '1999-12-30 17:00:00', '1999-12-31 00:00:00'],\n",
       "              dtype='datetime64[ns]', freq='7H')"
      ]
     },
     "execution_count": 49,
     "metadata": {},
     "output_type": "execute_result"
    }
   ],
   "source": [
    "pd.date_range(end=\"1999-12-31\",periods=100,freq=\"7H\")"
   ]
  },
  {
   "cell_type": "code",
   "execution_count": 6,
   "id": "08ab0f91-9da3-4f66-bffe-a1dafb794085",
   "metadata": {},
   "outputs": [],
   "source": [
    "date=pd.date_range(start=\"2000-01-01\",end=\"2010-12-31\",freq=\"24D\")\n"
   ]
  },
  {
   "cell_type": "code",
   "execution_count": 7,
   "id": "9d277c09-bd5e-48fa-ac1d-70ed0cbde235",
   "metadata": {},
   "outputs": [],
   "source": [
    "s=pd.Series(date)"
   ]
  },
  {
   "cell_type": "code",
   "execution_count": 57,
   "id": "912dcb11-8827-4bcb-aba0-140050fcb5b9",
   "metadata": {},
   "outputs": [
    {
     "data": {
      "text/plain": [
       "0   2000-01-01\n",
       "1   2000-01-25\n",
       "2   2000-02-18\n",
       "dtype: datetime64[ns]"
      ]
     },
     "execution_count": 57,
     "metadata": {},
     "output_type": "execute_result"
    }
   ],
   "source": [
    "s.head(3)"
   ]
  },
  {
   "cell_type": "code",
   "execution_count": 16,
   "id": "f4ff76a3-bed6-4e6a-a633-f01365f6d362",
   "metadata": {},
   "outputs": [
    {
     "data": {
      "text/plain": [
       "0     2000-01-01\n",
       "19    2001-04-01\n",
       "38    2002-07-01\n",
       "137   2009-01-01\n",
       "dtype: datetime64[ns]"
      ]
     },
     "execution_count": 16,
     "metadata": {},
     "output_type": "execute_result"
    }
   ],
   "source": [
    "mask=s.dt.is_quarter_start\n",
    "s[mask]"
   ]
  },
  {
   "cell_type": "code",
   "execution_count": 16,
   "id": "9ec493a7-119b-450a-9df2-89097deb98af",
   "metadata": {},
   "outputs": [],
   "source": [
    "import pandas as pd\n",
    "import datetime as dt\n",
    "from pandas_datareader import data\n"
   ]
  },
  {
   "cell_type": "code",
   "execution_count": 18,
   "id": "98f9a699-e165-46b8-bd88-46a7ddf258e8",
   "metadata": {},
   "outputs": [
    {
     "name": "stderr",
     "output_type": "stream",
     "text": [
      "[*********************100%%**********************]  1 of 1 completed\n"
     ]
    }
   ],
   "source": [
    "import yfinance as yf\n",
    "\n",
    "# Define the ticker symbol and date range\n",
    "ticker_symbol = 'MSFT'\n",
    "start_date = '2022-01-01'\n",
    "end_date = '2022-12-31'\n",
    "\n",
    "# Fetch the data using yfinance\n",
    "data = yf.download(ticker_symbol, start=start_date, end=end_date)\n",
    "\n",
    "# Print the fetched data\n"
   ]
  },
  {
   "cell_type": "code",
   "execution_count": 19,
   "id": "4643091c-e082-4cd8-8209-c42830c52345",
   "metadata": {},
   "outputs": [
    {
     "data": {
      "text/html": [
       "<div>\n",
       "<style scoped>\n",
       "    .dataframe tbody tr th:only-of-type {\n",
       "        vertical-align: middle;\n",
       "    }\n",
       "\n",
       "    .dataframe tbody tr th {\n",
       "        vertical-align: top;\n",
       "    }\n",
       "\n",
       "    .dataframe thead th {\n",
       "        text-align: right;\n",
       "    }\n",
       "</style>\n",
       "<table border=\"1\" class=\"dataframe\">\n",
       "  <thead>\n",
       "    <tr style=\"text-align: right;\">\n",
       "      <th></th>\n",
       "      <th>Open</th>\n",
       "      <th>High</th>\n",
       "      <th>Low</th>\n",
       "      <th>Close</th>\n",
       "      <th>Adj Close</th>\n",
       "      <th>Volume</th>\n",
       "    </tr>\n",
       "    <tr>\n",
       "      <th>Date</th>\n",
       "      <th></th>\n",
       "      <th></th>\n",
       "      <th></th>\n",
       "      <th></th>\n",
       "      <th></th>\n",
       "      <th></th>\n",
       "    </tr>\n",
       "  </thead>\n",
       "  <tbody>\n",
       "    <tr>\n",
       "      <th>2022-01-03</th>\n",
       "      <td>335.350006</td>\n",
       "      <td>338.000000</td>\n",
       "      <td>329.779999</td>\n",
       "      <td>334.750000</td>\n",
       "      <td>328.120880</td>\n",
       "      <td>28865100</td>\n",
       "    </tr>\n",
       "    <tr>\n",
       "      <th>2022-01-04</th>\n",
       "      <td>334.829987</td>\n",
       "      <td>335.200012</td>\n",
       "      <td>326.119995</td>\n",
       "      <td>329.010010</td>\n",
       "      <td>322.494568</td>\n",
       "      <td>32674300</td>\n",
       "    </tr>\n",
       "    <tr>\n",
       "      <th>2022-01-05</th>\n",
       "      <td>325.859985</td>\n",
       "      <td>326.070007</td>\n",
       "      <td>315.980011</td>\n",
       "      <td>316.380005</td>\n",
       "      <td>310.114655</td>\n",
       "      <td>40054300</td>\n",
       "    </tr>\n",
       "    <tr>\n",
       "      <th>2022-01-06</th>\n",
       "      <td>313.149994</td>\n",
       "      <td>318.700012</td>\n",
       "      <td>311.489990</td>\n",
       "      <td>313.880005</td>\n",
       "      <td>307.664154</td>\n",
       "      <td>39646100</td>\n",
       "    </tr>\n",
       "    <tr>\n",
       "      <th>2022-01-07</th>\n",
       "      <td>314.149994</td>\n",
       "      <td>316.500000</td>\n",
       "      <td>310.089996</td>\n",
       "      <td>314.040009</td>\n",
       "      <td>307.821014</td>\n",
       "      <td>32720000</td>\n",
       "    </tr>\n",
       "    <tr>\n",
       "      <th>...</th>\n",
       "      <td>...</td>\n",
       "      <td>...</td>\n",
       "      <td>...</td>\n",
       "      <td>...</td>\n",
       "      <td>...</td>\n",
       "      <td>...</td>\n",
       "    </tr>\n",
       "    <tr>\n",
       "      <th>2022-12-23</th>\n",
       "      <td>236.110001</td>\n",
       "      <td>238.869995</td>\n",
       "      <td>233.940002</td>\n",
       "      <td>238.729996</td>\n",
       "      <td>236.195007</td>\n",
       "      <td>21207000</td>\n",
       "    </tr>\n",
       "    <tr>\n",
       "      <th>2022-12-27</th>\n",
       "      <td>238.699997</td>\n",
       "      <td>238.929993</td>\n",
       "      <td>235.830002</td>\n",
       "      <td>236.960007</td>\n",
       "      <td>234.443817</td>\n",
       "      <td>16688600</td>\n",
       "    </tr>\n",
       "    <tr>\n",
       "      <th>2022-12-28</th>\n",
       "      <td>236.889999</td>\n",
       "      <td>239.720001</td>\n",
       "      <td>234.169998</td>\n",
       "      <td>234.529999</td>\n",
       "      <td>232.039627</td>\n",
       "      <td>17457100</td>\n",
       "    </tr>\n",
       "    <tr>\n",
       "      <th>2022-12-29</th>\n",
       "      <td>235.649994</td>\n",
       "      <td>241.919998</td>\n",
       "      <td>235.649994</td>\n",
       "      <td>241.009995</td>\n",
       "      <td>238.450821</td>\n",
       "      <td>19770700</td>\n",
       "    </tr>\n",
       "    <tr>\n",
       "      <th>2022-12-30</th>\n",
       "      <td>238.210007</td>\n",
       "      <td>239.960007</td>\n",
       "      <td>236.660004</td>\n",
       "      <td>239.820007</td>\n",
       "      <td>237.273453</td>\n",
       "      <td>21938500</td>\n",
       "    </tr>\n",
       "  </tbody>\n",
       "</table>\n",
       "<p>251 rows × 6 columns</p>\n",
       "</div>"
      ],
      "text/plain": [
       "                  Open        High         Low       Close   Adj Close  \\\n",
       "Date                                                                     \n",
       "2022-01-03  335.350006  338.000000  329.779999  334.750000  328.120880   \n",
       "2022-01-04  334.829987  335.200012  326.119995  329.010010  322.494568   \n",
       "2022-01-05  325.859985  326.070007  315.980011  316.380005  310.114655   \n",
       "2022-01-06  313.149994  318.700012  311.489990  313.880005  307.664154   \n",
       "2022-01-07  314.149994  316.500000  310.089996  314.040009  307.821014   \n",
       "...                ...         ...         ...         ...         ...   \n",
       "2022-12-23  236.110001  238.869995  233.940002  238.729996  236.195007   \n",
       "2022-12-27  238.699997  238.929993  235.830002  236.960007  234.443817   \n",
       "2022-12-28  236.889999  239.720001  234.169998  234.529999  232.039627   \n",
       "2022-12-29  235.649994  241.919998  235.649994  241.009995  238.450821   \n",
       "2022-12-30  238.210007  239.960007  236.660004  239.820007  237.273453   \n",
       "\n",
       "              Volume  \n",
       "Date                  \n",
       "2022-01-03  28865100  \n",
       "2022-01-04  32674300  \n",
       "2022-01-05  40054300  \n",
       "2022-01-06  39646100  \n",
       "2022-01-07  32720000  \n",
       "...              ...  \n",
       "2022-12-23  21207000  \n",
       "2022-12-27  16688600  \n",
       "2022-12-28  17457100  \n",
       "2022-12-29  19770700  \n",
       "2022-12-30  21938500  \n",
       "\n",
       "[251 rows x 6 columns]"
      ]
     },
     "execution_count": 19,
     "metadata": {},
     "output_type": "execute_result"
    }
   ],
   "source": [
    "data"
   ]
  },
  {
   "cell_type": "code",
   "execution_count": 21,
   "id": "adfc8687-02a1-47ea-ab27-e1f8a625a1e5",
   "metadata": {},
   "outputs": [
    {
     "data": {
      "text/plain": [
       "array([[3.35350006e+02, 3.38000000e+02, 3.29779999e+02, 3.34750000e+02,\n",
       "        3.28120880e+02, 2.88651000e+07],\n",
       "       [3.34829987e+02, 3.35200012e+02, 3.26119995e+02, 3.29010010e+02,\n",
       "        3.22494568e+02, 3.26743000e+07],\n",
       "       [3.25859985e+02, 3.26070007e+02, 3.15980011e+02, 3.16380005e+02,\n",
       "        3.10114655e+02, 4.00543000e+07],\n",
       "       ...,\n",
       "       [2.36889999e+02, 2.39720001e+02, 2.34169998e+02, 2.34529999e+02,\n",
       "        2.32039627e+02, 1.74571000e+07],\n",
       "       [2.35649994e+02, 2.41919998e+02, 2.35649994e+02, 2.41009995e+02,\n",
       "        2.38450821e+02, 1.97707000e+07],\n",
       "       [2.38210007e+02, 2.39960007e+02, 2.36660004e+02, 2.39820007e+02,\n",
       "        2.37273453e+02, 2.19385000e+07]])"
      ]
     },
     "execution_count": 21,
     "metadata": {},
     "output_type": "execute_result"
    }
   ],
   "source": [
    "data.values"
   ]
  },
  {
   "cell_type": "code",
   "execution_count": 22,
   "id": "34eb75c2-fef9-428e-bef3-82829a11a94e",
   "metadata": {},
   "outputs": [
    {
     "data": {
      "text/plain": [
       "Index(['Open', 'High', 'Low', 'Close', 'Adj Close', 'Volume'], dtype='object')"
      ]
     },
     "execution_count": 22,
     "metadata": {},
     "output_type": "execute_result"
    }
   ],
   "source": [
    "data.columns"
   ]
  },
  {
   "cell_type": "code",
   "execution_count": 24,
   "id": "0c4b8e99-6818-48ca-a644-bda470f3b9be",
   "metadata": {},
   "outputs": [
    {
     "data": {
      "text/plain": [
       "DatetimeIndex(['2022-01-03', '2022-01-04', '2022-01-05', '2022-01-06',\n",
       "               '2022-01-07', '2022-01-10', '2022-01-11', '2022-01-12',\n",
       "               '2022-01-13', '2022-01-14',\n",
       "               ...\n",
       "               '2022-12-16', '2022-12-19', '2022-12-20', '2022-12-21',\n",
       "               '2022-12-22', '2022-12-23', '2022-12-27', '2022-12-28',\n",
       "               '2022-12-29', '2022-12-30'],\n",
       "              dtype='datetime64[ns]', name='Date', length=251, freq=None)"
      ]
     },
     "execution_count": 24,
     "metadata": {},
     "output_type": "execute_result"
    }
   ],
   "source": [
    "data.index"
   ]
  },
  {
   "cell_type": "code",
   "execution_count": 25,
   "id": "44155b97-02b7-48ea-9884-24c5a32327b8",
   "metadata": {},
   "outputs": [
    {
     "data": {
      "text/plain": [
       "[DatetimeIndex(['2022-01-03', '2022-01-04', '2022-01-05', '2022-01-06',\n",
       "                '2022-01-07', '2022-01-10', '2022-01-11', '2022-01-12',\n",
       "                '2022-01-13', '2022-01-14',\n",
       "                ...\n",
       "                '2022-12-16', '2022-12-19', '2022-12-20', '2022-12-21',\n",
       "                '2022-12-22', '2022-12-23', '2022-12-27', '2022-12-28',\n",
       "                '2022-12-29', '2022-12-30'],\n",
       "               dtype='datetime64[ns]', name='Date', length=251, freq=None),\n",
       " Index(['Open', 'High', 'Low', 'Close', 'Adj Close', 'Volume'], dtype='object')]"
      ]
     },
     "execution_count": 25,
     "metadata": {},
     "output_type": "execute_result"
    }
   ],
   "source": [
    "data.axes"
   ]
  },
  {
   "cell_type": "code",
   "execution_count": 27,
   "id": "5456849e-46ec-4f45-9f3e-64273f066c87",
   "metadata": {},
   "outputs": [
    {
     "data": {
      "text/plain": [
       "Open         3.353500e+02\n",
       "High         3.380000e+02\n",
       "Low          3.297800e+02\n",
       "Close        3.347500e+02\n",
       "Adj Close    3.281209e+02\n",
       "Volume       2.886510e+07\n",
       "Name: 2022-01-03 00:00:00, dtype: float64"
      ]
     },
     "execution_count": 27,
     "metadata": {},
     "output_type": "execute_result"
    }
   ],
   "source": [
    "data.loc[\"2022-01-03\"]"
   ]
  },
  {
   "cell_type": "code",
   "execution_count": 29,
   "id": "3e3c8a8c-2026-45ac-afd2-2a654df09403",
   "metadata": {},
   "outputs": [
    {
     "data": {
      "text/plain": [
       "Open         3.353500e+02\n",
       "High         3.380000e+02\n",
       "Low          3.297800e+02\n",
       "Close        3.347500e+02\n",
       "Adj Close    3.281209e+02\n",
       "Volume       2.886510e+07\n",
       "Name: 2022-01-03 00:00:00, dtype: float64"
      ]
     },
     "execution_count": 29,
     "metadata": {},
     "output_type": "execute_result"
    }
   ],
   "source": [
    "data.loc[pd.Timestamp(\"2022-01-03\t\")]"
   ]
  },
  {
   "cell_type": "code",
   "execution_count": 30,
   "id": "ae74fec9-8e3e-41c0-947f-c98b2e7eb34a",
   "metadata": {},
   "outputs": [
    {
     "data": {
      "text/plain": [
       "Open         3.353500e+02\n",
       "High         3.380000e+02\n",
       "Low          3.297800e+02\n",
       "Close        3.347500e+02\n",
       "Adj Close    3.281209e+02\n",
       "Volume       2.886510e+07\n",
       "Name: 2022-01-03 00:00:00, dtype: float64"
      ]
     },
     "execution_count": 30,
     "metadata": {},
     "output_type": "execute_result"
    }
   ],
   "source": [
    "data.iloc[0]"
   ]
  },
  {
   "cell_type": "code",
   "execution_count": 32,
   "id": "135b989a-7a0d-4d75-8dcd-7c88ca8aabdb",
   "metadata": {},
   "outputs": [
    {
     "data": {
      "text/html": [
       "<div>\n",
       "<style scoped>\n",
       "    .dataframe tbody tr th:only-of-type {\n",
       "        vertical-align: middle;\n",
       "    }\n",
       "\n",
       "    .dataframe tbody tr th {\n",
       "        vertical-align: top;\n",
       "    }\n",
       "\n",
       "    .dataframe thead th {\n",
       "        text-align: right;\n",
       "    }\n",
       "</style>\n",
       "<table border=\"1\" class=\"dataframe\">\n",
       "  <thead>\n",
       "    <tr style=\"text-align: right;\">\n",
       "      <th></th>\n",
       "      <th>Open</th>\n",
       "      <th>High</th>\n",
       "      <th>Low</th>\n",
       "      <th>Close</th>\n",
       "      <th>Adj Close</th>\n",
       "      <th>Volume</th>\n",
       "    </tr>\n",
       "    <tr>\n",
       "      <th>Date</th>\n",
       "      <th></th>\n",
       "      <th></th>\n",
       "      <th></th>\n",
       "      <th></th>\n",
       "      <th></th>\n",
       "      <th></th>\n",
       "    </tr>\n",
       "  </thead>\n",
       "  <tbody>\n",
       "    <tr>\n",
       "      <th>2022-01-03</th>\n",
       "      <td>335.350006</td>\n",
       "      <td>338.0</td>\n",
       "      <td>329.779999</td>\n",
       "      <td>334.75</td>\n",
       "      <td>328.12088</td>\n",
       "      <td>28865100</td>\n",
       "    </tr>\n",
       "    <tr>\n",
       "      <th>2022-01-03</th>\n",
       "      <td>335.350006</td>\n",
       "      <td>338.0</td>\n",
       "      <td>329.779999</td>\n",
       "      <td>334.75</td>\n",
       "      <td>328.12088</td>\n",
       "      <td>28865100</td>\n",
       "    </tr>\n",
       "  </tbody>\n",
       "</table>\n",
       "</div>"
      ],
      "text/plain": [
       "                  Open   High         Low   Close  Adj Close    Volume\n",
       "Date                                                                  \n",
       "2022-01-03  335.350006  338.0  329.779999  334.75  328.12088  28865100\n",
       "2022-01-03  335.350006  338.0  329.779999  334.75  328.12088  28865100"
      ]
     },
     "execution_count": 32,
     "metadata": {},
     "output_type": "execute_result"
    }
   ],
   "source": [
    "data.loc[[\"2022-01-03\",\"2022-01-03\"]]"
   ]
  },
  {
   "cell_type": "code",
   "execution_count": 34,
   "id": "3cfeb0b5-c14a-4389-9853-19d823711fc9",
   "metadata": {},
   "outputs": [
    {
     "data": {
      "text/html": [
       "<div>\n",
       "<style scoped>\n",
       "    .dataframe tbody tr th:only-of-type {\n",
       "        vertical-align: middle;\n",
       "    }\n",
       "\n",
       "    .dataframe tbody tr th {\n",
       "        vertical-align: top;\n",
       "    }\n",
       "\n",
       "    .dataframe thead th {\n",
       "        text-align: right;\n",
       "    }\n",
       "</style>\n",
       "<table border=\"1\" class=\"dataframe\">\n",
       "  <thead>\n",
       "    <tr style=\"text-align: right;\">\n",
       "      <th></th>\n",
       "      <th>Open</th>\n",
       "      <th>High</th>\n",
       "      <th>Low</th>\n",
       "      <th>Close</th>\n",
       "      <th>Adj Close</th>\n",
       "      <th>Volume</th>\n",
       "    </tr>\n",
       "    <tr>\n",
       "      <th>Date</th>\n",
       "      <th></th>\n",
       "      <th></th>\n",
       "      <th></th>\n",
       "      <th></th>\n",
       "      <th></th>\n",
       "      <th></th>\n",
       "    </tr>\n",
       "  </thead>\n",
       "  <tbody>\n",
       "    <tr>\n",
       "      <th>2022-01-03</th>\n",
       "      <td>335.350006</td>\n",
       "      <td>338.0</td>\n",
       "      <td>329.779999</td>\n",
       "      <td>334.75</td>\n",
       "      <td>328.12088</td>\n",
       "      <td>28865100</td>\n",
       "    </tr>\n",
       "    <tr>\n",
       "      <th>2022-01-03</th>\n",
       "      <td>335.350006</td>\n",
       "      <td>338.0</td>\n",
       "      <td>329.779999</td>\n",
       "      <td>334.75</td>\n",
       "      <td>328.12088</td>\n",
       "      <td>28865100</td>\n",
       "    </tr>\n",
       "  </tbody>\n",
       "</table>\n",
       "</div>"
      ],
      "text/plain": [
       "                  Open   High         Low   Close  Adj Close    Volume\n",
       "Date                                                                  \n",
       "2022-01-03  335.350006  338.0  329.779999  334.75  328.12088  28865100\n",
       "2022-01-03  335.350006  338.0  329.779999  334.75  328.12088  28865100"
      ]
     },
     "execution_count": 34,
     "metadata": {},
     "output_type": "execute_result"
    }
   ],
   "source": [
    "data.loc[[pd.Timestamp(\"2022-01-03\"),pd.Timestamp(\"2022-01-03\")]]"
   ]
  },
  {
   "cell_type": "code",
   "execution_count": 36,
   "id": "00fd6994-aaba-4de5-a3eb-9f68f6b93954",
   "metadata": {},
   "outputs": [
    {
     "data": {
      "text/html": [
       "<div>\n",
       "<style scoped>\n",
       "    .dataframe tbody tr th:only-of-type {\n",
       "        vertical-align: middle;\n",
       "    }\n",
       "\n",
       "    .dataframe tbody tr th {\n",
       "        vertical-align: top;\n",
       "    }\n",
       "\n",
       "    .dataframe thead th {\n",
       "        text-align: right;\n",
       "    }\n",
       "</style>\n",
       "<table border=\"1\" class=\"dataframe\">\n",
       "  <thead>\n",
       "    <tr style=\"text-align: right;\">\n",
       "      <th></th>\n",
       "      <th>Open</th>\n",
       "      <th>High</th>\n",
       "      <th>Low</th>\n",
       "      <th>Close</th>\n",
       "      <th>Adj Close</th>\n",
       "      <th>Volume</th>\n",
       "    </tr>\n",
       "    <tr>\n",
       "      <th>Date</th>\n",
       "      <th></th>\n",
       "      <th></th>\n",
       "      <th></th>\n",
       "      <th></th>\n",
       "      <th></th>\n",
       "      <th></th>\n",
       "    </tr>\n",
       "  </thead>\n",
       "  <tbody>\n",
       "    <tr>\n",
       "      <th>2022-01-03</th>\n",
       "      <td>335.350006</td>\n",
       "      <td>338.000000</td>\n",
       "      <td>329.779999</td>\n",
       "      <td>334.750000</td>\n",
       "      <td>328.120880</td>\n",
       "      <td>28865100</td>\n",
       "    </tr>\n",
       "    <tr>\n",
       "      <th>2022-01-04</th>\n",
       "      <td>334.829987</td>\n",
       "      <td>335.200012</td>\n",
       "      <td>326.119995</td>\n",
       "      <td>329.010010</td>\n",
       "      <td>322.494568</td>\n",
       "      <td>32674300</td>\n",
       "    </tr>\n",
       "    <tr>\n",
       "      <th>2022-01-05</th>\n",
       "      <td>325.859985</td>\n",
       "      <td>326.070007</td>\n",
       "      <td>315.980011</td>\n",
       "      <td>316.380005</td>\n",
       "      <td>310.114655</td>\n",
       "      <td>40054300</td>\n",
       "    </tr>\n",
       "    <tr>\n",
       "      <th>2022-01-06</th>\n",
       "      <td>313.149994</td>\n",
       "      <td>318.700012</td>\n",
       "      <td>311.489990</td>\n",
       "      <td>313.880005</td>\n",
       "      <td>307.664154</td>\n",
       "      <td>39646100</td>\n",
       "    </tr>\n",
       "    <tr>\n",
       "      <th>2022-01-07</th>\n",
       "      <td>314.149994</td>\n",
       "      <td>316.500000</td>\n",
       "      <td>310.089996</td>\n",
       "      <td>314.040009</td>\n",
       "      <td>307.821014</td>\n",
       "      <td>32720000</td>\n",
       "    </tr>\n",
       "    <tr>\n",
       "      <th>...</th>\n",
       "      <td>...</td>\n",
       "      <td>...</td>\n",
       "      <td>...</td>\n",
       "      <td>...</td>\n",
       "      <td>...</td>\n",
       "      <td>...</td>\n",
       "    </tr>\n",
       "    <tr>\n",
       "      <th>2022-12-23</th>\n",
       "      <td>236.110001</td>\n",
       "      <td>238.869995</td>\n",
       "      <td>233.940002</td>\n",
       "      <td>238.729996</td>\n",
       "      <td>236.195007</td>\n",
       "      <td>21207000</td>\n",
       "    </tr>\n",
       "    <tr>\n",
       "      <th>2022-12-27</th>\n",
       "      <td>238.699997</td>\n",
       "      <td>238.929993</td>\n",
       "      <td>235.830002</td>\n",
       "      <td>236.960007</td>\n",
       "      <td>234.443817</td>\n",
       "      <td>16688600</td>\n",
       "    </tr>\n",
       "    <tr>\n",
       "      <th>2022-12-28</th>\n",
       "      <td>236.889999</td>\n",
       "      <td>239.720001</td>\n",
       "      <td>234.169998</td>\n",
       "      <td>234.529999</td>\n",
       "      <td>232.039627</td>\n",
       "      <td>17457100</td>\n",
       "    </tr>\n",
       "    <tr>\n",
       "      <th>2022-12-29</th>\n",
       "      <td>235.649994</td>\n",
       "      <td>241.919998</td>\n",
       "      <td>235.649994</td>\n",
       "      <td>241.009995</td>\n",
       "      <td>238.450821</td>\n",
       "      <td>19770700</td>\n",
       "    </tr>\n",
       "    <tr>\n",
       "      <th>2022-12-30</th>\n",
       "      <td>238.210007</td>\n",
       "      <td>239.960007</td>\n",
       "      <td>236.660004</td>\n",
       "      <td>239.820007</td>\n",
       "      <td>237.273453</td>\n",
       "      <td>21938500</td>\n",
       "    </tr>\n",
       "  </tbody>\n",
       "</table>\n",
       "<p>251 rows × 6 columns</p>\n",
       "</div>"
      ],
      "text/plain": [
       "                  Open        High         Low       Close   Adj Close  \\\n",
       "Date                                                                     \n",
       "2022-01-03  335.350006  338.000000  329.779999  334.750000  328.120880   \n",
       "2022-01-04  334.829987  335.200012  326.119995  329.010010  322.494568   \n",
       "2022-01-05  325.859985  326.070007  315.980011  316.380005  310.114655   \n",
       "2022-01-06  313.149994  318.700012  311.489990  313.880005  307.664154   \n",
       "2022-01-07  314.149994  316.500000  310.089996  314.040009  307.821014   \n",
       "...                ...         ...         ...         ...         ...   \n",
       "2022-12-23  236.110001  238.869995  233.940002  238.729996  236.195007   \n",
       "2022-12-27  238.699997  238.929993  235.830002  236.960007  234.443817   \n",
       "2022-12-28  236.889999  239.720001  234.169998  234.529999  232.039627   \n",
       "2022-12-29  235.649994  241.919998  235.649994  241.009995  238.450821   \n",
       "2022-12-30  238.210007  239.960007  236.660004  239.820007  237.273453   \n",
       "\n",
       "              Volume  \n",
       "Date                  \n",
       "2022-01-03  28865100  \n",
       "2022-01-04  32674300  \n",
       "2022-01-05  40054300  \n",
       "2022-01-06  39646100  \n",
       "2022-01-07  32720000  \n",
       "...              ...  \n",
       "2022-12-23  21207000  \n",
       "2022-12-27  16688600  \n",
       "2022-12-28  17457100  \n",
       "2022-12-29  19770700  \n",
       "2022-12-30  21938500  \n",
       "\n",
       "[251 rows x 6 columns]"
      ]
     },
     "execution_count": 36,
     "metadata": {},
     "output_type": "execute_result"
    }
   ],
   "source": [
    "data.truncate(before=\"2022-01-03\",after=\"2022-12-30\")"
   ]
  },
  {
   "cell_type": "code",
   "execution_count": 40,
   "id": "fc86167b-98ec-4824-865a-35bc722b5412",
   "metadata": {},
   "outputs": [],
   "source": [
    "birth=pd.date_range(start=\"2022-01-03\",end=\"2022-12-30\",freq=pd.DateOffset(years=1))"
   ]
  },
  {
   "cell_type": "code",
   "execution_count": 45,
   "id": "9e084f5d-5e23-4f69-8d72-f9582e02f131",
   "metadata": {},
   "outputs": [],
   "source": [
    "b_s=data.index.isin(birth)"
   ]
  },
  {
   "cell_type": "code",
   "execution_count": 46,
   "id": "d20bdbe1-97ad-4579-b3b9-9fc3732bd969",
   "metadata": {},
   "outputs": [
    {
     "data": {
      "text/html": [
       "<div>\n",
       "<style scoped>\n",
       "    .dataframe tbody tr th:only-of-type {\n",
       "        vertical-align: middle;\n",
       "    }\n",
       "\n",
       "    .dataframe tbody tr th {\n",
       "        vertical-align: top;\n",
       "    }\n",
       "\n",
       "    .dataframe thead th {\n",
       "        text-align: right;\n",
       "    }\n",
       "</style>\n",
       "<table border=\"1\" class=\"dataframe\">\n",
       "  <thead>\n",
       "    <tr style=\"text-align: right;\">\n",
       "      <th></th>\n",
       "      <th>Open</th>\n",
       "      <th>High</th>\n",
       "      <th>Low</th>\n",
       "      <th>Close</th>\n",
       "      <th>Adj Close</th>\n",
       "      <th>Volume</th>\n",
       "    </tr>\n",
       "    <tr>\n",
       "      <th>Date</th>\n",
       "      <th></th>\n",
       "      <th></th>\n",
       "      <th></th>\n",
       "      <th></th>\n",
       "      <th></th>\n",
       "      <th></th>\n",
       "    </tr>\n",
       "  </thead>\n",
       "  <tbody>\n",
       "    <tr>\n",
       "      <th>2022-01-03</th>\n",
       "      <td>335.350006</td>\n",
       "      <td>338.0</td>\n",
       "      <td>329.779999</td>\n",
       "      <td>334.75</td>\n",
       "      <td>328.12088</td>\n",
       "      <td>28865100</td>\n",
       "    </tr>\n",
       "  </tbody>\n",
       "</table>\n",
       "</div>"
      ],
      "text/plain": [
       "                  Open   High         Low   Close  Adj Close    Volume\n",
       "Date                                                                  \n",
       "2022-01-03  335.350006  338.0  329.779999  334.75  328.12088  28865100"
      ]
     },
     "execution_count": 46,
     "metadata": {},
     "output_type": "execute_result"
    }
   ],
   "source": [
    "data[b_s]"
   ]
  },
  {
   "cell_type": "code",
   "execution_count": 47,
   "id": "e8ca163b-0ee0-4b0e-8a65-f640435f3311",
   "metadata": {},
   "outputs": [
    {
     "name": "stderr",
     "output_type": "stream",
     "text": [
      "[*********************100%%**********************]  1 of 1 completed\n"
     ]
    }
   ],
   "source": [
    "import yfinance as yf\n",
    "\n",
    "# Define the ticker symbol and date range\n",
    "ticker_symbol = 'MSFT'\n",
    "start_date = '2022-01-01'\n",
    "end_date = '2022-12-31'\n",
    "\n",
    "# Fetch the data using yfinance\n",
    "data = yf.download(ticker_symbol, start=start_date, end=end_date)\n",
    "\n",
    "# Print the fetched data\n"
   ]
  },
  {
   "cell_type": "code",
   "execution_count": 48,
   "id": "a6d2290a-59f2-4408-aed7-7c42c5c1141d",
   "metadata": {},
   "outputs": [
    {
     "data": {
      "text/html": [
       "<div>\n",
       "<style scoped>\n",
       "    .dataframe tbody tr th:only-of-type {\n",
       "        vertical-align: middle;\n",
       "    }\n",
       "\n",
       "    .dataframe tbody tr th {\n",
       "        vertical-align: top;\n",
       "    }\n",
       "\n",
       "    .dataframe thead th {\n",
       "        text-align: right;\n",
       "    }\n",
       "</style>\n",
       "<table border=\"1\" class=\"dataframe\">\n",
       "  <thead>\n",
       "    <tr style=\"text-align: right;\">\n",
       "      <th></th>\n",
       "      <th>Open</th>\n",
       "      <th>High</th>\n",
       "      <th>Low</th>\n",
       "      <th>Close</th>\n",
       "      <th>Adj Close</th>\n",
       "      <th>Volume</th>\n",
       "    </tr>\n",
       "    <tr>\n",
       "      <th>Date</th>\n",
       "      <th></th>\n",
       "      <th></th>\n",
       "      <th></th>\n",
       "      <th></th>\n",
       "      <th></th>\n",
       "      <th></th>\n",
       "    </tr>\n",
       "  </thead>\n",
       "  <tbody>\n",
       "    <tr>\n",
       "      <th>2022-01-03</th>\n",
       "      <td>335.350006</td>\n",
       "      <td>338.000000</td>\n",
       "      <td>329.779999</td>\n",
       "      <td>334.750000</td>\n",
       "      <td>328.120880</td>\n",
       "      <td>28865100</td>\n",
       "    </tr>\n",
       "    <tr>\n",
       "      <th>2022-01-04</th>\n",
       "      <td>334.829987</td>\n",
       "      <td>335.200012</td>\n",
       "      <td>326.119995</td>\n",
       "      <td>329.010010</td>\n",
       "      <td>322.494568</td>\n",
       "      <td>32674300</td>\n",
       "    </tr>\n",
       "    <tr>\n",
       "      <th>2022-01-05</th>\n",
       "      <td>325.859985</td>\n",
       "      <td>326.070007</td>\n",
       "      <td>315.980011</td>\n",
       "      <td>316.380005</td>\n",
       "      <td>310.114655</td>\n",
       "      <td>40054300</td>\n",
       "    </tr>\n",
       "  </tbody>\n",
       "</table>\n",
       "</div>"
      ],
      "text/plain": [
       "                  Open        High         Low       Close   Adj Close  \\\n",
       "Date                                                                     \n",
       "2022-01-03  335.350006  338.000000  329.779999  334.750000  328.120880   \n",
       "2022-01-04  334.829987  335.200012  326.119995  329.010010  322.494568   \n",
       "2022-01-05  325.859985  326.070007  315.980011  316.380005  310.114655   \n",
       "\n",
       "              Volume  \n",
       "Date                  \n",
       "2022-01-03  28865100  \n",
       "2022-01-04  32674300  \n",
       "2022-01-05  40054300  "
      ]
     },
     "execution_count": 48,
     "metadata": {},
     "output_type": "execute_result"
    }
   ],
   "source": [
    "data.head(3)"
   ]
  },
  {
   "cell_type": "code",
   "execution_count": 55,
   "id": "956600bf-f682-46df-891c-c6dc96361267",
   "metadata": {},
   "outputs": [
    {
     "data": {
      "text/plain": [
       "Timestamp('2022-10-19 00:00:00')"
      ]
     },
     "execution_count": 55,
     "metadata": {},
     "output_type": "execute_result"
    }
   ],
   "source": [
    "someday=data.index[200]\n",
    "someday"
   ]
  },
  {
   "cell_type": "code",
   "execution_count": 65,
   "id": "09ba0698-3880-4461-a0ef-9b114f7e7953",
   "metadata": {},
   "outputs": [
    {
     "data": {
      "text/plain": [
       "19"
      ]
     },
     "execution_count": 65,
     "metadata": {},
     "output_type": "execute_result"
    }
   ],
   "source": [
    "someday.month\n",
    "someday.week\n",
    "someday.is_month_start\n",
    "someday.is_quarter_start\n",
    "someday.is_quarter_end\n",
    "someday.day"
   ]
  },
  {
   "cell_type": "code",
   "execution_count": 67,
   "id": "276648fd-7fef-4269-a682-766473ede0b4",
   "metadata": {},
   "outputs": [
    {
     "data": {
      "text/plain": [
       "'Wednesday'"
      ]
     },
     "execution_count": 67,
     "metadata": {},
     "output_type": "execute_result"
    }
   ],
   "source": [
    "someday.month_name()\n",
    "someday.day_name()"
   ]
  },
  {
   "cell_type": "code",
   "execution_count": 70,
   "id": "35f1a304-9376-4901-954c-265ecd329625",
   "metadata": {},
   "outputs": [
    {
     "data": {
      "text/plain": [
       "Index(['Monday', 'Tuesday', 'Wednesday', 'Thursday', 'Friday', 'Monday',\n",
       "       'Tuesday', 'Wednesday', 'Thursday', 'Friday',\n",
       "       ...\n",
       "       'Friday', 'Monday', 'Tuesday', 'Wednesday', 'Thursday', 'Friday',\n",
       "       'Tuesday', 'Wednesday', 'Thursday', 'Friday'],\n",
       "      dtype='object', name='Date', length=251)"
      ]
     },
     "execution_count": 70,
     "metadata": {},
     "output_type": "execute_result"
    }
   ],
   "source": [
    "data.index.day_name()"
   ]
  },
  {
   "cell_type": "code",
   "execution_count": 71,
   "id": "6127859f-19a6-4290-97ee-b7c4e401ae66",
   "metadata": {},
   "outputs": [],
   "source": [
    "data.insert(0,\"Day of week\",data.index.day_name())"
   ]
  },
  {
   "cell_type": "code",
   "execution_count": 72,
   "id": "3e33e018-d6ad-414e-856e-b0fa07b0532d",
   "metadata": {},
   "outputs": [
    {
     "data": {
      "text/html": [
       "<div>\n",
       "<style scoped>\n",
       "    .dataframe tbody tr th:only-of-type {\n",
       "        vertical-align: middle;\n",
       "    }\n",
       "\n",
       "    .dataframe tbody tr th {\n",
       "        vertical-align: top;\n",
       "    }\n",
       "\n",
       "    .dataframe thead th {\n",
       "        text-align: right;\n",
       "    }\n",
       "</style>\n",
       "<table border=\"1\" class=\"dataframe\">\n",
       "  <thead>\n",
       "    <tr style=\"text-align: right;\">\n",
       "      <th></th>\n",
       "      <th>Day of week</th>\n",
       "      <th>Open</th>\n",
       "      <th>High</th>\n",
       "      <th>Low</th>\n",
       "      <th>Close</th>\n",
       "      <th>Adj Close</th>\n",
       "      <th>Volume</th>\n",
       "    </tr>\n",
       "    <tr>\n",
       "      <th>Date</th>\n",
       "      <th></th>\n",
       "      <th></th>\n",
       "      <th></th>\n",
       "      <th></th>\n",
       "      <th></th>\n",
       "      <th></th>\n",
       "      <th></th>\n",
       "    </tr>\n",
       "  </thead>\n",
       "  <tbody>\n",
       "    <tr>\n",
       "      <th>2022-01-03</th>\n",
       "      <td>Monday</td>\n",
       "      <td>335.350006</td>\n",
       "      <td>338.000000</td>\n",
       "      <td>329.779999</td>\n",
       "      <td>334.750000</td>\n",
       "      <td>328.120880</td>\n",
       "      <td>28865100</td>\n",
       "    </tr>\n",
       "    <tr>\n",
       "      <th>2022-01-04</th>\n",
       "      <td>Tuesday</td>\n",
       "      <td>334.829987</td>\n",
       "      <td>335.200012</td>\n",
       "      <td>326.119995</td>\n",
       "      <td>329.010010</td>\n",
       "      <td>322.494568</td>\n",
       "      <td>32674300</td>\n",
       "    </tr>\n",
       "    <tr>\n",
       "      <th>2022-01-05</th>\n",
       "      <td>Wednesday</td>\n",
       "      <td>325.859985</td>\n",
       "      <td>326.070007</td>\n",
       "      <td>315.980011</td>\n",
       "      <td>316.380005</td>\n",
       "      <td>310.114655</td>\n",
       "      <td>40054300</td>\n",
       "    </tr>\n",
       "    <tr>\n",
       "      <th>2022-01-06</th>\n",
       "      <td>Thursday</td>\n",
       "      <td>313.149994</td>\n",
       "      <td>318.700012</td>\n",
       "      <td>311.489990</td>\n",
       "      <td>313.880005</td>\n",
       "      <td>307.664154</td>\n",
       "      <td>39646100</td>\n",
       "    </tr>\n",
       "    <tr>\n",
       "      <th>2022-01-07</th>\n",
       "      <td>Friday</td>\n",
       "      <td>314.149994</td>\n",
       "      <td>316.500000</td>\n",
       "      <td>310.089996</td>\n",
       "      <td>314.040009</td>\n",
       "      <td>307.821014</td>\n",
       "      <td>32720000</td>\n",
       "    </tr>\n",
       "    <tr>\n",
       "      <th>...</th>\n",
       "      <td>...</td>\n",
       "      <td>...</td>\n",
       "      <td>...</td>\n",
       "      <td>...</td>\n",
       "      <td>...</td>\n",
       "      <td>...</td>\n",
       "      <td>...</td>\n",
       "    </tr>\n",
       "    <tr>\n",
       "      <th>2022-12-23</th>\n",
       "      <td>Friday</td>\n",
       "      <td>236.110001</td>\n",
       "      <td>238.869995</td>\n",
       "      <td>233.940002</td>\n",
       "      <td>238.729996</td>\n",
       "      <td>236.195007</td>\n",
       "      <td>21207000</td>\n",
       "    </tr>\n",
       "    <tr>\n",
       "      <th>2022-12-27</th>\n",
       "      <td>Tuesday</td>\n",
       "      <td>238.699997</td>\n",
       "      <td>238.929993</td>\n",
       "      <td>235.830002</td>\n",
       "      <td>236.960007</td>\n",
       "      <td>234.443817</td>\n",
       "      <td>16688600</td>\n",
       "    </tr>\n",
       "    <tr>\n",
       "      <th>2022-12-28</th>\n",
       "      <td>Wednesday</td>\n",
       "      <td>236.889999</td>\n",
       "      <td>239.720001</td>\n",
       "      <td>234.169998</td>\n",
       "      <td>234.529999</td>\n",
       "      <td>232.039627</td>\n",
       "      <td>17457100</td>\n",
       "    </tr>\n",
       "    <tr>\n",
       "      <th>2022-12-29</th>\n",
       "      <td>Thursday</td>\n",
       "      <td>235.649994</td>\n",
       "      <td>241.919998</td>\n",
       "      <td>235.649994</td>\n",
       "      <td>241.009995</td>\n",
       "      <td>238.450821</td>\n",
       "      <td>19770700</td>\n",
       "    </tr>\n",
       "    <tr>\n",
       "      <th>2022-12-30</th>\n",
       "      <td>Friday</td>\n",
       "      <td>238.210007</td>\n",
       "      <td>239.960007</td>\n",
       "      <td>236.660004</td>\n",
       "      <td>239.820007</td>\n",
       "      <td>237.273453</td>\n",
       "      <td>21938500</td>\n",
       "    </tr>\n",
       "  </tbody>\n",
       "</table>\n",
       "<p>251 rows × 7 columns</p>\n",
       "</div>"
      ],
      "text/plain": [
       "           Day of week        Open        High         Low       Close  \\\n",
       "Date                                                                     \n",
       "2022-01-03      Monday  335.350006  338.000000  329.779999  334.750000   \n",
       "2022-01-04     Tuesday  334.829987  335.200012  326.119995  329.010010   \n",
       "2022-01-05   Wednesday  325.859985  326.070007  315.980011  316.380005   \n",
       "2022-01-06    Thursday  313.149994  318.700012  311.489990  313.880005   \n",
       "2022-01-07      Friday  314.149994  316.500000  310.089996  314.040009   \n",
       "...                ...         ...         ...         ...         ...   \n",
       "2022-12-23      Friday  236.110001  238.869995  233.940002  238.729996   \n",
       "2022-12-27     Tuesday  238.699997  238.929993  235.830002  236.960007   \n",
       "2022-12-28   Wednesday  236.889999  239.720001  234.169998  234.529999   \n",
       "2022-12-29    Thursday  235.649994  241.919998  235.649994  241.009995   \n",
       "2022-12-30      Friday  238.210007  239.960007  236.660004  239.820007   \n",
       "\n",
       "             Adj Close    Volume  \n",
       "Date                              \n",
       "2022-01-03  328.120880  28865100  \n",
       "2022-01-04  322.494568  32674300  \n",
       "2022-01-05  310.114655  40054300  \n",
       "2022-01-06  307.664154  39646100  \n",
       "2022-01-07  307.821014  32720000  \n",
       "...                ...       ...  \n",
       "2022-12-23  236.195007  21207000  \n",
       "2022-12-27  234.443817  16688600  \n",
       "2022-12-28  232.039627  17457100  \n",
       "2022-12-29  238.450821  19770700  \n",
       "2022-12-30  237.273453  21938500  \n",
       "\n",
       "[251 rows x 7 columns]"
      ]
     },
     "execution_count": 72,
     "metadata": {},
     "output_type": "execute_result"
    }
   ],
   "source": [
    "data"
   ]
  },
  {
   "cell_type": "code",
   "execution_count": 83,
   "id": "48f4b21e-0d57-48a0-bb9c-af72d385fecd",
   "metadata": {},
   "outputs": [],
   "source": [
    "data.insert(1,\"is  month\",data.index.day_name())"
   ]
  },
  {
   "cell_type": "code",
   "execution_count": 84,
   "id": "dbf61719-db71-48af-826d-ada9bcaf5c13",
   "metadata": {},
   "outputs": [
    {
     "data": {
      "text/html": [
       "<div>\n",
       "<style scoped>\n",
       "    .dataframe tbody tr th:only-of-type {\n",
       "        vertical-align: middle;\n",
       "    }\n",
       "\n",
       "    .dataframe tbody tr th {\n",
       "        vertical-align: top;\n",
       "    }\n",
       "\n",
       "    .dataframe thead th {\n",
       "        text-align: right;\n",
       "    }\n",
       "</style>\n",
       "<table border=\"1\" class=\"dataframe\">\n",
       "  <thead>\n",
       "    <tr style=\"text-align: right;\">\n",
       "      <th></th>\n",
       "      <th>Day of week</th>\n",
       "      <th>is  month</th>\n",
       "      <th>is start of month</th>\n",
       "      <th>Open</th>\n",
       "      <th>High</th>\n",
       "      <th>Low</th>\n",
       "      <th>Close</th>\n",
       "      <th>Adj Close</th>\n",
       "      <th>Volume</th>\n",
       "    </tr>\n",
       "    <tr>\n",
       "      <th>Date</th>\n",
       "      <th></th>\n",
       "      <th></th>\n",
       "      <th></th>\n",
       "      <th></th>\n",
       "      <th></th>\n",
       "      <th></th>\n",
       "      <th></th>\n",
       "      <th></th>\n",
       "      <th></th>\n",
       "    </tr>\n",
       "  </thead>\n",
       "  <tbody>\n",
       "    <tr>\n",
       "      <th>2022-01-03</th>\n",
       "      <td>Monday</td>\n",
       "      <td>Monday</td>\n",
       "      <td>False</td>\n",
       "      <td>335.350006</td>\n",
       "      <td>338.000000</td>\n",
       "      <td>329.779999</td>\n",
       "      <td>334.750000</td>\n",
       "      <td>328.120880</td>\n",
       "      <td>28865100</td>\n",
       "    </tr>\n",
       "    <tr>\n",
       "      <th>2022-01-04</th>\n",
       "      <td>Tuesday</td>\n",
       "      <td>Tuesday</td>\n",
       "      <td>False</td>\n",
       "      <td>334.829987</td>\n",
       "      <td>335.200012</td>\n",
       "      <td>326.119995</td>\n",
       "      <td>329.010010</td>\n",
       "      <td>322.494568</td>\n",
       "      <td>32674300</td>\n",
       "    </tr>\n",
       "    <tr>\n",
       "      <th>2022-01-05</th>\n",
       "      <td>Wednesday</td>\n",
       "      <td>Wednesday</td>\n",
       "      <td>False</td>\n",
       "      <td>325.859985</td>\n",
       "      <td>326.070007</td>\n",
       "      <td>315.980011</td>\n",
       "      <td>316.380005</td>\n",
       "      <td>310.114655</td>\n",
       "      <td>40054300</td>\n",
       "    </tr>\n",
       "    <tr>\n",
       "      <th>2022-01-06</th>\n",
       "      <td>Thursday</td>\n",
       "      <td>Thursday</td>\n",
       "      <td>False</td>\n",
       "      <td>313.149994</td>\n",
       "      <td>318.700012</td>\n",
       "      <td>311.489990</td>\n",
       "      <td>313.880005</td>\n",
       "      <td>307.664154</td>\n",
       "      <td>39646100</td>\n",
       "    </tr>\n",
       "    <tr>\n",
       "      <th>2022-01-07</th>\n",
       "      <td>Friday</td>\n",
       "      <td>Friday</td>\n",
       "      <td>False</td>\n",
       "      <td>314.149994</td>\n",
       "      <td>316.500000</td>\n",
       "      <td>310.089996</td>\n",
       "      <td>314.040009</td>\n",
       "      <td>307.821014</td>\n",
       "      <td>32720000</td>\n",
       "    </tr>\n",
       "    <tr>\n",
       "      <th>...</th>\n",
       "      <td>...</td>\n",
       "      <td>...</td>\n",
       "      <td>...</td>\n",
       "      <td>...</td>\n",
       "      <td>...</td>\n",
       "      <td>...</td>\n",
       "      <td>...</td>\n",
       "      <td>...</td>\n",
       "      <td>...</td>\n",
       "    </tr>\n",
       "    <tr>\n",
       "      <th>2022-12-23</th>\n",
       "      <td>Friday</td>\n",
       "      <td>Friday</td>\n",
       "      <td>False</td>\n",
       "      <td>236.110001</td>\n",
       "      <td>238.869995</td>\n",
       "      <td>233.940002</td>\n",
       "      <td>238.729996</td>\n",
       "      <td>236.195007</td>\n",
       "      <td>21207000</td>\n",
       "    </tr>\n",
       "    <tr>\n",
       "      <th>2022-12-27</th>\n",
       "      <td>Tuesday</td>\n",
       "      <td>Tuesday</td>\n",
       "      <td>False</td>\n",
       "      <td>238.699997</td>\n",
       "      <td>238.929993</td>\n",
       "      <td>235.830002</td>\n",
       "      <td>236.960007</td>\n",
       "      <td>234.443817</td>\n",
       "      <td>16688600</td>\n",
       "    </tr>\n",
       "    <tr>\n",
       "      <th>2022-12-28</th>\n",
       "      <td>Wednesday</td>\n",
       "      <td>Wednesday</td>\n",
       "      <td>False</td>\n",
       "      <td>236.889999</td>\n",
       "      <td>239.720001</td>\n",
       "      <td>234.169998</td>\n",
       "      <td>234.529999</td>\n",
       "      <td>232.039627</td>\n",
       "      <td>17457100</td>\n",
       "    </tr>\n",
       "    <tr>\n",
       "      <th>2022-12-29</th>\n",
       "      <td>Thursday</td>\n",
       "      <td>Thursday</td>\n",
       "      <td>False</td>\n",
       "      <td>235.649994</td>\n",
       "      <td>241.919998</td>\n",
       "      <td>235.649994</td>\n",
       "      <td>241.009995</td>\n",
       "      <td>238.450821</td>\n",
       "      <td>19770700</td>\n",
       "    </tr>\n",
       "    <tr>\n",
       "      <th>2022-12-30</th>\n",
       "      <td>Friday</td>\n",
       "      <td>Friday</td>\n",
       "      <td>False</td>\n",
       "      <td>238.210007</td>\n",
       "      <td>239.960007</td>\n",
       "      <td>236.660004</td>\n",
       "      <td>239.820007</td>\n",
       "      <td>237.273453</td>\n",
       "      <td>21938500</td>\n",
       "    </tr>\n",
       "  </tbody>\n",
       "</table>\n",
       "<p>251 rows × 9 columns</p>\n",
       "</div>"
      ],
      "text/plain": [
       "           Day of week  is  month  is start of month        Open        High  \\\n",
       "Date                                                                           \n",
       "2022-01-03      Monday     Monday              False  335.350006  338.000000   \n",
       "2022-01-04     Tuesday    Tuesday              False  334.829987  335.200012   \n",
       "2022-01-05   Wednesday  Wednesday              False  325.859985  326.070007   \n",
       "2022-01-06    Thursday   Thursday              False  313.149994  318.700012   \n",
       "2022-01-07      Friday     Friday              False  314.149994  316.500000   \n",
       "...                ...        ...                ...         ...         ...   \n",
       "2022-12-23      Friday     Friday              False  236.110001  238.869995   \n",
       "2022-12-27     Tuesday    Tuesday              False  238.699997  238.929993   \n",
       "2022-12-28   Wednesday  Wednesday              False  236.889999  239.720001   \n",
       "2022-12-29    Thursday   Thursday              False  235.649994  241.919998   \n",
       "2022-12-30      Friday     Friday              False  238.210007  239.960007   \n",
       "\n",
       "                   Low       Close   Adj Close    Volume  \n",
       "Date                                                      \n",
       "2022-01-03  329.779999  334.750000  328.120880  28865100  \n",
       "2022-01-04  326.119995  329.010010  322.494568  32674300  \n",
       "2022-01-05  315.980011  316.380005  310.114655  40054300  \n",
       "2022-01-06  311.489990  313.880005  307.664154  39646100  \n",
       "2022-01-07  310.089996  314.040009  307.821014  32720000  \n",
       "...                ...         ...         ...       ...  \n",
       "2022-12-23  233.940002  238.729996  236.195007  21207000  \n",
       "2022-12-27  235.830002  236.960007  234.443817  16688600  \n",
       "2022-12-28  234.169998  234.529999  232.039627  17457100  \n",
       "2022-12-29  235.649994  241.009995  238.450821  19770700  \n",
       "2022-12-30  236.660004  239.820007  237.273453  21938500  \n",
       "\n",
       "[251 rows x 9 columns]"
      ]
     },
     "execution_count": 84,
     "metadata": {},
     "output_type": "execute_result"
    }
   ],
   "source": [
    "data"
   ]
  },
  {
   "cell_type": "code",
   "execution_count": 121,
   "id": "2143d764-63db-45c7-9d4b-9716446462ca",
   "metadata": {},
   "outputs": [
    {
     "data": {
      "text/plain": [
       "DatetimeIndex(['2022-01-05', '2022-01-06', '2022-01-07', '2022-01-08',\n",
       "               '2022-01-09', '2022-01-12', '2022-01-13', '2022-01-14',\n",
       "               '2022-01-15', '2022-01-16',\n",
       "               ...\n",
       "               '2022-12-18', '2022-12-21', '2022-12-22', '2022-12-23',\n",
       "               '2022-12-24', '2022-12-25', '2022-12-29', '2022-12-30',\n",
       "               '2022-12-31', '2023-01-01'],\n",
       "              dtype='datetime64[ns]', name='Date', length=251, freq=None)"
      ]
     },
     "execution_count": 121,
     "metadata": {},
     "output_type": "execute_result"
    }
   ],
   "source": [
    "data.index+pd.DateOffset(days=5)\n",
    "data.index+pd.DateOffset(days=2)"
   ]
  },
  {
   "cell_type": "code",
   "execution_count": 112,
   "id": "093ed935-8530-43d2-b69a-cc3d9b44558a",
   "metadata": {},
   "outputs": [
    {
     "data": {
      "text/plain": [
       "DatetimeIndex(['2022-01-17', '2022-01-18', '2022-01-19', '2022-01-20',\n",
       "               '2022-01-21', '2022-01-24', '2022-01-25', '2022-01-26',\n",
       "               '2022-01-27', '2022-01-28',\n",
       "               ...\n",
       "               '2022-12-30', '2023-01-02', '2023-01-03', '2023-01-04',\n",
       "               '2023-01-05', '2023-01-06', '2023-01-10', '2023-01-11',\n",
       "               '2023-01-12', '2023-01-13'],\n",
       "              dtype='datetime64[ns]', name='Date', length=251, freq=None)"
      ]
     },
     "execution_count": 112,
     "metadata": {},
     "output_type": "execute_result"
    }
   ],
   "source": [
    "data.index+pd.DateOffset(weeks=5)\n",
    "data.index+pd.DateOffset(weeks=2)"
   ]
  },
  {
   "cell_type": "code",
   "execution_count": 92,
   "id": "037731cc-7819-4bce-b31e-93f8ed075c7c",
   "metadata": {},
   "outputs": [
    {
     "data": {
      "text/plain": [
       "DatetimeIndex(['2022-06-03', '2022-06-04', '2022-06-05', '2022-06-06',\n",
       "               '2022-06-07', '2022-06-10', '2022-06-11', '2022-06-12',\n",
       "               '2022-06-13', '2022-06-14',\n",
       "               ...\n",
       "               '2023-05-16', '2023-05-19', '2023-05-20', '2023-05-21',\n",
       "               '2023-05-22', '2023-05-23', '2023-05-27', '2023-05-28',\n",
       "               '2023-05-29', '2023-05-30'],\n",
       "              dtype='datetime64[ns]', name='Date', length=251, freq=None)"
      ]
     },
     "execution_count": 92,
     "metadata": {},
     "output_type": "execute_result"
    }
   ],
   "source": [
    "data.index+pd.DateOffset(months=5)"
   ]
  },
  {
   "cell_type": "code",
   "execution_count": 94,
   "id": "aff6e26f-880a-4812-9649-52b5d819fd57",
   "metadata": {},
   "outputs": [
    {
     "data": {
      "text/plain": [
       "DatetimeIndex(['2024-01-03', '2024-01-04', '2024-01-05', '2024-01-06',\n",
       "               '2024-01-07', '2024-01-10', '2024-01-11', '2024-01-12',\n",
       "               '2024-01-13', '2024-01-14',\n",
       "               ...\n",
       "               '2024-12-16', '2024-12-19', '2024-12-20', '2024-12-21',\n",
       "               '2024-12-22', '2024-12-23', '2024-12-27', '2024-12-28',\n",
       "               '2024-12-29', '2024-12-30'],\n",
       "              dtype='datetime64[ns]', name='Date', length=251, freq=None)"
      ]
     },
     "execution_count": 94,
     "metadata": {},
     "output_type": "execute_result"
    }
   ],
   "source": [
    "data.index+pd.DateOffset(years=2)"
   ]
  },
  {
   "cell_type": "code",
   "execution_count": 97,
   "id": "589bf042-937d-434f-b944-1c522a8d20aa",
   "metadata": {},
   "outputs": [
    {
     "data": {
      "text/plain": [
       "DatetimeIndex(['2023-03-06 06:45:12', '2023-03-07 06:45:12',\n",
       "               '2023-03-08 06:45:12', '2023-03-09 06:45:12',\n",
       "               '2023-03-10 06:45:12', '2023-03-13 06:45:12',\n",
       "               '2023-03-14 06:45:12', '2023-03-15 06:45:12',\n",
       "               '2023-03-16 06:45:12', '2023-03-17 06:45:12',\n",
       "               ...\n",
       "               '2024-02-19 06:45:12', '2024-02-22 06:45:12',\n",
       "               '2024-02-23 06:45:12', '2024-02-24 06:45:12',\n",
       "               '2024-02-25 06:45:12', '2024-02-26 06:45:12',\n",
       "               '2024-03-01 06:45:12', '2024-03-02 06:45:12',\n",
       "               '2024-03-03 06:45:12', '2024-03-03 06:45:12'],\n",
       "              dtype='datetime64[ns]', name='Date', length=251, freq=None)"
      ]
     },
     "execution_count": 97,
     "metadata": {},
     "output_type": "execute_result"
    }
   ],
   "source": [
    "data.index+pd.DateOffset(years=1,months=2,days=3,hours=6,minutes=45,seconds=12)"
   ]
  },
  {
   "cell_type": "code",
   "execution_count": 110,
   "id": "83fec8e2-9b2a-4f11-a60c-0ee0dd2d77ed",
   "metadata": {},
   "outputs": [
    {
     "name": "stderr",
     "output_type": "stream",
     "text": [
      "[*********************100%%**********************]  1 of 1 completed\n"
     ]
    }
   ],
   "source": [
    "import yfinance as yf\n",
    "\n",
    "# Define the ticker symbol and date range\n",
    "ticker_symbol = 'MSFT'\n",
    "start_date = '2022-01-01'\n",
    "end_date = '2022-12-31'\n",
    "\n",
    "# Fetch the data using yfinance\n",
    "data = yf.download(ticker_symbol, start=start_date, end=end_date)\n",
    "\n",
    "# Print the fetched data\n"
   ]
  },
  {
   "cell_type": "code",
   "execution_count": 111,
   "id": "c09af0a4-4b70-4e1e-b094-cd0b232019d0",
   "metadata": {},
   "outputs": [
    {
     "data": {
      "text/html": [
       "<div>\n",
       "<style scoped>\n",
       "    .dataframe tbody tr th:only-of-type {\n",
       "        vertical-align: middle;\n",
       "    }\n",
       "\n",
       "    .dataframe tbody tr th {\n",
       "        vertical-align: top;\n",
       "    }\n",
       "\n",
       "    .dataframe thead th {\n",
       "        text-align: right;\n",
       "    }\n",
       "</style>\n",
       "<table border=\"1\" class=\"dataframe\">\n",
       "  <thead>\n",
       "    <tr style=\"text-align: right;\">\n",
       "      <th></th>\n",
       "      <th>Open</th>\n",
       "      <th>High</th>\n",
       "      <th>Low</th>\n",
       "      <th>Close</th>\n",
       "      <th>Adj Close</th>\n",
       "      <th>Volume</th>\n",
       "    </tr>\n",
       "    <tr>\n",
       "      <th>Date</th>\n",
       "      <th></th>\n",
       "      <th></th>\n",
       "      <th></th>\n",
       "      <th></th>\n",
       "      <th></th>\n",
       "      <th></th>\n",
       "    </tr>\n",
       "  </thead>\n",
       "  <tbody>\n",
       "    <tr>\n",
       "      <th>2022-12-28</th>\n",
       "      <td>236.889999</td>\n",
       "      <td>239.720001</td>\n",
       "      <td>234.169998</td>\n",
       "      <td>234.529999</td>\n",
       "      <td>232.039627</td>\n",
       "      <td>17457100</td>\n",
       "    </tr>\n",
       "    <tr>\n",
       "      <th>2022-12-29</th>\n",
       "      <td>235.649994</td>\n",
       "      <td>241.919998</td>\n",
       "      <td>235.649994</td>\n",
       "      <td>241.009995</td>\n",
       "      <td>238.450821</td>\n",
       "      <td>19770700</td>\n",
       "    </tr>\n",
       "    <tr>\n",
       "      <th>2022-12-30</th>\n",
       "      <td>238.210007</td>\n",
       "      <td>239.960007</td>\n",
       "      <td>236.660004</td>\n",
       "      <td>239.820007</td>\n",
       "      <td>237.273453</td>\n",
       "      <td>21938500</td>\n",
       "    </tr>\n",
       "  </tbody>\n",
       "</table>\n",
       "</div>"
      ],
      "text/plain": [
       "                  Open        High         Low       Close   Adj Close  \\\n",
       "Date                                                                     \n",
       "2022-12-28  236.889999  239.720001  234.169998  234.529999  232.039627   \n",
       "2022-12-29  235.649994  241.919998  235.649994  241.009995  238.450821   \n",
       "2022-12-30  238.210007  239.960007  236.660004  239.820007  237.273453   \n",
       "\n",
       "              Volume  \n",
       "Date                  \n",
       "2022-12-28  17457100  \n",
       "2022-12-29  19770700  \n",
       "2022-12-30  21938500  "
      ]
     },
     "execution_count": 111,
     "metadata": {},
     "output_type": "execute_result"
    }
   ],
   "source": [
    "data.tail(3)"
   ]
  },
  {
   "cell_type": "code",
   "execution_count": 99,
   "id": "c96319f5-b34b-492b-8ef7-1aa61aceb52e",
   "metadata": {},
   "outputs": [
    {
     "data": {
      "text/html": [
       "<div>\n",
       "<style scoped>\n",
       "    .dataframe tbody tr th:only-of-type {\n",
       "        vertical-align: middle;\n",
       "    }\n",
       "\n",
       "    .dataframe tbody tr th {\n",
       "        vertical-align: top;\n",
       "    }\n",
       "\n",
       "    .dataframe thead th {\n",
       "        text-align: right;\n",
       "    }\n",
       "</style>\n",
       "<table border=\"1\" class=\"dataframe\">\n",
       "  <thead>\n",
       "    <tr style=\"text-align: right;\">\n",
       "      <th></th>\n",
       "      <th>Open</th>\n",
       "      <th>High</th>\n",
       "      <th>Low</th>\n",
       "      <th>Close</th>\n",
       "      <th>Adj Close</th>\n",
       "      <th>Volume</th>\n",
       "    </tr>\n",
       "    <tr>\n",
       "      <th>Date</th>\n",
       "      <th></th>\n",
       "      <th></th>\n",
       "      <th></th>\n",
       "      <th></th>\n",
       "      <th></th>\n",
       "      <th></th>\n",
       "    </tr>\n",
       "  </thead>\n",
       "  <tbody>\n",
       "    <tr>\n",
       "      <th>2022-01-03</th>\n",
       "      <td>335.350006</td>\n",
       "      <td>338.000000</td>\n",
       "      <td>329.779999</td>\n",
       "      <td>334.750000</td>\n",
       "      <td>328.120880</td>\n",
       "      <td>28865100</td>\n",
       "    </tr>\n",
       "    <tr>\n",
       "      <th>2022-01-04</th>\n",
       "      <td>334.829987</td>\n",
       "      <td>335.200012</td>\n",
       "      <td>326.119995</td>\n",
       "      <td>329.010010</td>\n",
       "      <td>322.494568</td>\n",
       "      <td>32674300</td>\n",
       "    </tr>\n",
       "    <tr>\n",
       "      <th>2022-01-05</th>\n",
       "      <td>325.859985</td>\n",
       "      <td>326.070007</td>\n",
       "      <td>315.980011</td>\n",
       "      <td>316.380005</td>\n",
       "      <td>310.114655</td>\n",
       "      <td>40054300</td>\n",
       "    </tr>\n",
       "  </tbody>\n",
       "</table>\n",
       "</div>"
      ],
      "text/plain": [
       "                  Open        High         Low       Close   Adj Close  \\\n",
       "Date                                                                     \n",
       "2022-01-03  335.350006  338.000000  329.779999  334.750000  328.120880   \n",
       "2022-01-04  334.829987  335.200012  326.119995  329.010010  322.494568   \n",
       "2022-01-05  325.859985  326.070007  315.980011  316.380005  310.114655   \n",
       "\n",
       "              Volume  \n",
       "Date                  \n",
       "2022-01-03  28865100  \n",
       "2022-01-04  32674300  \n",
       "2022-01-05  40054300  "
      ]
     },
     "execution_count": 99,
     "metadata": {},
     "output_type": "execute_result"
    }
   ],
   "source": [
    "data.head(3)"
   ]
  },
  {
   "cell_type": "code",
   "execution_count": 114,
   "id": "881f640f-94c8-43ef-911a-5ab8a90aaf5e",
   "metadata": {},
   "outputs": [
    {
     "data": {
      "text/plain": [
       "DatetimeIndex(['2021-12-31', '2021-12-31', '2021-12-31', '2021-12-31',\n",
       "               '2021-12-31', '2021-12-31', '2021-12-31', '2021-12-31',\n",
       "               '2021-12-31', '2021-12-31',\n",
       "               ...\n",
       "               '2022-11-30', '2022-11-30', '2022-11-30', '2022-11-30',\n",
       "               '2022-11-30', '2022-11-30', '2022-11-30', '2022-11-30',\n",
       "               '2022-11-30', '2022-11-30'],\n",
       "              dtype='datetime64[ns]', name='Date', length=251, freq=None)"
      ]
     },
     "execution_count": 114,
     "metadata": {},
     "output_type": "execute_result"
    }
   ],
   "source": [
    "data.index+pd.tseries.offsets.MonthEnd()\n",
    "data.index-pd.tseries.offsets.MonthEnd()\n",
    "\n"
   ]
  },
  {
   "cell_type": "code",
   "execution_count": 118,
   "id": "6913d245-4225-4ddb-9a6a-8453f0015666",
   "metadata": {},
   "outputs": [
    {
     "data": {
      "text/html": [
       "<div>\n",
       "<style scoped>\n",
       "    .dataframe tbody tr th:only-of-type {\n",
       "        vertical-align: middle;\n",
       "    }\n",
       "\n",
       "    .dataframe tbody tr th {\n",
       "        vertical-align: top;\n",
       "    }\n",
       "\n",
       "    .dataframe thead th {\n",
       "        text-align: right;\n",
       "    }\n",
       "</style>\n",
       "<table border=\"1\" class=\"dataframe\">\n",
       "  <thead>\n",
       "    <tr style=\"text-align: right;\">\n",
       "      <th></th>\n",
       "      <th>Open</th>\n",
       "      <th>High</th>\n",
       "      <th>Low</th>\n",
       "      <th>Close</th>\n",
       "      <th>Adj Close</th>\n",
       "      <th>Volume</th>\n",
       "    </tr>\n",
       "    <tr>\n",
       "      <th>Date</th>\n",
       "      <th></th>\n",
       "      <th></th>\n",
       "      <th></th>\n",
       "      <th></th>\n",
       "      <th></th>\n",
       "      <th></th>\n",
       "    </tr>\n",
       "  </thead>\n",
       "  <tbody>\n",
       "    <tr>\n",
       "      <th>2022-01-03</th>\n",
       "      <td>335.350006</td>\n",
       "      <td>338.000000</td>\n",
       "      <td>329.779999</td>\n",
       "      <td>334.750000</td>\n",
       "      <td>328.120880</td>\n",
       "      <td>28865100</td>\n",
       "    </tr>\n",
       "    <tr>\n",
       "      <th>2022-01-04</th>\n",
       "      <td>334.829987</td>\n",
       "      <td>335.200012</td>\n",
       "      <td>326.119995</td>\n",
       "      <td>329.010010</td>\n",
       "      <td>322.494568</td>\n",
       "      <td>32674300</td>\n",
       "    </tr>\n",
       "    <tr>\n",
       "      <th>2022-01-05</th>\n",
       "      <td>325.859985</td>\n",
       "      <td>326.070007</td>\n",
       "      <td>315.980011</td>\n",
       "      <td>316.380005</td>\n",
       "      <td>310.114655</td>\n",
       "      <td>40054300</td>\n",
       "    </tr>\n",
       "    <tr>\n",
       "      <th>2022-01-06</th>\n",
       "      <td>313.149994</td>\n",
       "      <td>318.700012</td>\n",
       "      <td>311.489990</td>\n",
       "      <td>313.880005</td>\n",
       "      <td>307.664154</td>\n",
       "      <td>39646100</td>\n",
       "    </tr>\n",
       "    <tr>\n",
       "      <th>2022-01-07</th>\n",
       "      <td>314.149994</td>\n",
       "      <td>316.500000</td>\n",
       "      <td>310.089996</td>\n",
       "      <td>314.040009</td>\n",
       "      <td>307.821014</td>\n",
       "      <td>32720000</td>\n",
       "    </tr>\n",
       "  </tbody>\n",
       "</table>\n",
       "</div>"
      ],
      "text/plain": [
       "                  Open        High         Low       Close   Adj Close  \\\n",
       "Date                                                                     \n",
       "2022-01-03  335.350006  338.000000  329.779999  334.750000  328.120880   \n",
       "2022-01-04  334.829987  335.200012  326.119995  329.010010  322.494568   \n",
       "2022-01-05  325.859985  326.070007  315.980011  316.380005  310.114655   \n",
       "2022-01-06  313.149994  318.700012  311.489990  313.880005  307.664154   \n",
       "2022-01-07  314.149994  316.500000  310.089996  314.040009  307.821014   \n",
       "\n",
       "              Volume  \n",
       "Date                  \n",
       "2022-01-03  28865100  \n",
       "2022-01-04  32674300  \n",
       "2022-01-05  40054300  \n",
       "2022-01-06  39646100  \n",
       "2022-01-07  32720000  "
      ]
     },
     "execution_count": 118,
     "metadata": {},
     "output_type": "execute_result"
    }
   ],
   "source": [
    "data.head()"
   ]
  },
  {
   "cell_type": "code",
   "execution_count": 116,
   "id": "18c02833-1e93-467f-a90a-0f97c3c89a42",
   "metadata": {},
   "outputs": [],
   "source": [
    "from pandas.tseries import offsets"
   ]
  },
  {
   "cell_type": "code",
   "execution_count": 117,
   "id": "72d7cfa2-5a5e-4e07-8883-6dc43fa2ba58",
   "metadata": {},
   "outputs": [
    {
     "data": {
      "text/plain": [
       "DatetimeIndex(['2022-01-31', '2022-01-31', '2022-01-31', '2022-01-31',\n",
       "               '2022-01-31', '2022-01-31', '2022-01-31', '2022-01-31',\n",
       "               '2022-01-31', '2022-01-31',\n",
       "               ...\n",
       "               '2022-12-31', '2022-12-31', '2022-12-31', '2022-12-31',\n",
       "               '2022-12-31', '2022-12-31', '2022-12-31', '2022-12-31',\n",
       "               '2022-12-31', '2022-12-31'],\n",
       "              dtype='datetime64[ns]', name='Date', length=251, freq=None)"
      ]
     },
     "execution_count": 117,
     "metadata": {},
     "output_type": "execute_result"
    }
   ],
   "source": [
    "data.index+offsets.MonthEnd()\n",
    "\n"
   ]
  },
  {
   "cell_type": "code",
   "execution_count": 123,
   "id": "939da061-0a46-4e41-a8bf-63d3787de4b8",
   "metadata": {},
   "outputs": [
    {
     "data": {
      "text/plain": [
       "DatetimeIndex(['2021-12-31', '2021-12-31', '2021-12-31', '2021-12-31',\n",
       "               '2021-12-31', '2021-12-31', '2021-12-31', '2021-12-31',\n",
       "               '2021-12-31', '2021-12-31',\n",
       "               ...\n",
       "               '2022-11-30', '2022-11-30', '2022-11-30', '2022-11-30',\n",
       "               '2022-11-30', '2022-11-30', '2022-11-30', '2022-11-30',\n",
       "               '2022-11-30', '2022-11-30'],\n",
       "              dtype='datetime64[ns]', name='Date', length=251, freq=None)"
      ]
     },
     "execution_count": 123,
     "metadata": {},
     "output_type": "execute_result"
    }
   ],
   "source": [
    "data.index+offsets.BMonthEnd()\n",
    "data.index-offsets.BMonthEnd()\n",
    "\n"
   ]
  },
  {
   "cell_type": "code",
   "execution_count": 126,
   "id": "b1a0913c-87e8-4159-b36d-a49d18dc52a1",
   "metadata": {},
   "outputs": [
    {
     "data": {
      "text/plain": [
       "DatetimeIndex(['2023-01-01', '2023-01-01', '2023-01-01', '2023-01-01',\n",
       "               '2023-01-01', '2023-01-01', '2023-01-01', '2023-01-01',\n",
       "               '2023-01-01', '2023-01-01',\n",
       "               ...\n",
       "               '2023-01-01', '2023-01-01', '2023-01-01', '2023-01-01',\n",
       "               '2023-01-01', '2023-01-01', '2023-01-01', '2023-01-01',\n",
       "               '2023-01-01', '2023-01-01'],\n",
       "              dtype='datetime64[ns]', name='Date', length=251, freq=None)"
      ]
     },
     "execution_count": 126,
     "metadata": {},
     "output_type": "execute_result"
    }
   ],
   "source": [
    "data.index+offsets.YearEnd()\n",
    "data.index+offsets.YearBegin()\n"
   ]
  },
  {
   "cell_type": "code",
   "execution_count": 132,
   "id": "fba976c7-6b52-4888-b4a6-4094943e508a",
   "metadata": {},
   "outputs": [],
   "source": [
    "time_a=pd.Timestamp(\"2020-01-03 \")\n",
    "time_b=pd.Timestamp(\"2020-01-07 \")"
   ]
  },
  {
   "cell_type": "code",
   "execution_count": 133,
   "id": "fd72d15a-9279-471c-9f89-c046ed2c8895",
   "metadata": {},
   "outputs": [
    {
     "data": {
      "text/plain": [
       "Timedelta('-4 days +00:00:00')"
      ]
     },
     "execution_count": 133,
     "metadata": {},
     "output_type": "execute_result"
    }
   ],
   "source": [
    "time_a-time_b"
   ]
  },
  {
   "cell_type": "code",
   "execution_count": 140,
   "id": "479e5370-f4dc-4d62-90ad-0657082df64d",
   "metadata": {},
   "outputs": [
    {
     "data": {
      "text/plain": [
       "Timedelta('29 days 06:55:14')"
      ]
     },
     "execution_count": 140,
     "metadata": {},
     "output_type": "execute_result"
    }
   ],
   "source": [
    "pd.Timedelta(days=3)\n",
    "pd.Timedelta(days=3 ,minutes=45)\n",
    "pd.Timedelta(weeks=3,days=8,hours=6,minutes=55,seconds=14)\n",
    "\n"
   ]
  },
  {
   "cell_type": "code",
   "execution_count": 141,
   "id": "4e44a7f9-d399-463c-84dc-84fe3b6323c2",
   "metadata": {},
   "outputs": [
    {
     "data": {
      "text/plain": [
       "Timedelta('14 days 06:12:45')"
      ]
     },
     "execution_count": 141,
     "metadata": {},
     "output_type": "execute_result"
    }
   ],
   "source": [
    "pd.Timedelta(\"14 days 6 hours 12 minutes 45 seconds\")"
   ]
  },
  {
   "cell_type": "code",
   "execution_count": 145,
   "id": "b3d78e26-c3a7-45dd-938c-70aa27c2b5aa",
   "metadata": {},
   "outputs": [
    {
     "name": "stderr",
     "output_type": "stream",
     "text": [
      "C:\\Users\\Muhammad Shahbaz\\AppData\\Local\\Temp\\ipykernel_14956\\3737452622.py:1: UserWarning: Could not infer format, so each element will be parsed individually, falling back to `dateutil`. To ensure parsing is consistent and as-expected, please specify a format.\n",
      "  ship=pd.read_csv(\"ecommerce.csv\",index_col=\"ID\",parse_dates=[\"order_date\",\"delivery_date\"])\n",
      "C:\\Users\\Muhammad Shahbaz\\AppData\\Local\\Temp\\ipykernel_14956\\3737452622.py:1: UserWarning: Could not infer format, so each element will be parsed individually, falling back to `dateutil`. To ensure parsing is consistent and as-expected, please specify a format.\n",
      "  ship=pd.read_csv(\"ecommerce.csv\",index_col=\"ID\",parse_dates=[\"order_date\",\"delivery_date\"])\n"
     ]
    }
   ],
   "source": [
    "ship=pd.read_csv(\"ecommerce.csv\",index_col=\"ID\",parse_dates=[\"order_date\",\"delivery_date\"])"
   ]
  },
  {
   "cell_type": "code",
   "execution_count": 148,
   "id": "dd91630a-8acd-4cb8-ae0b-2474f6e4c263",
   "metadata": {},
   "outputs": [
    {
     "data": {
      "text/html": [
       "<div>\n",
       "<style scoped>\n",
       "    .dataframe tbody tr th:only-of-type {\n",
       "        vertical-align: middle;\n",
       "    }\n",
       "\n",
       "    .dataframe tbody tr th {\n",
       "        vertical-align: top;\n",
       "    }\n",
       "\n",
       "    .dataframe thead th {\n",
       "        text-align: right;\n",
       "    }\n",
       "</style>\n",
       "<table border=\"1\" class=\"dataframe\">\n",
       "  <thead>\n",
       "    <tr style=\"text-align: right;\">\n",
       "      <th></th>\n",
       "      <th>order_date</th>\n",
       "      <th>delivery_date</th>\n",
       "    </tr>\n",
       "    <tr>\n",
       "      <th>ID</th>\n",
       "      <th></th>\n",
       "      <th></th>\n",
       "    </tr>\n",
       "  </thead>\n",
       "  <tbody>\n",
       "    <tr>\n",
       "      <th>1</th>\n",
       "      <td>1998-05-24</td>\n",
       "      <td>1999-02-05</td>\n",
       "    </tr>\n",
       "    <tr>\n",
       "      <th>2</th>\n",
       "      <td>1992-04-22</td>\n",
       "      <td>1998-03-06</td>\n",
       "    </tr>\n",
       "    <tr>\n",
       "      <th>4</th>\n",
       "      <td>1991-02-10</td>\n",
       "      <td>1992-08-26</td>\n",
       "    </tr>\n",
       "  </tbody>\n",
       "</table>\n",
       "</div>"
      ],
      "text/plain": [
       "   order_date delivery_date\n",
       "ID                         \n",
       "1  1998-05-24    1999-02-05\n",
       "2  1992-04-22    1998-03-06\n",
       "4  1991-02-10    1992-08-26"
      ]
     },
     "execution_count": 148,
     "metadata": {},
     "output_type": "execute_result"
    }
   ],
   "source": [
    "ship.head(3)"
   ]
  },
  {
   "cell_type": "code",
   "execution_count": 151,
   "id": "56517128-2c91-443f-a18c-d70fd96c4ef9",
   "metadata": {},
   "outputs": [],
   "source": [
    "ship[\"Delivery Time\"]=ship[\"delivery_date\"]-ship[\"order_date\"]"
   ]
  },
  {
   "cell_type": "code",
   "execution_count": 154,
   "id": "f5e5337d-e4fb-4b33-83ae-4a2d7f06393a",
   "metadata": {},
   "outputs": [
    {
     "data": {
      "text/html": [
       "<div>\n",
       "<style scoped>\n",
       "    .dataframe tbody tr th:only-of-type {\n",
       "        vertical-align: middle;\n",
       "    }\n",
       "\n",
       "    .dataframe tbody tr th {\n",
       "        vertical-align: top;\n",
       "    }\n",
       "\n",
       "    .dataframe thead th {\n",
       "        text-align: right;\n",
       "    }\n",
       "</style>\n",
       "<table border=\"1\" class=\"dataframe\">\n",
       "  <thead>\n",
       "    <tr style=\"text-align: right;\">\n",
       "      <th></th>\n",
       "      <th>order_date</th>\n",
       "      <th>delivery_date</th>\n",
       "      <th>Delivery Time</th>\n",
       "    </tr>\n",
       "    <tr>\n",
       "      <th>ID</th>\n",
       "      <th></th>\n",
       "      <th></th>\n",
       "      <th></th>\n",
       "    </tr>\n",
       "  </thead>\n",
       "  <tbody>\n",
       "    <tr>\n",
       "      <th>1</th>\n",
       "      <td>1998-05-24</td>\n",
       "      <td>1999-02-05</td>\n",
       "      <td>257 days</td>\n",
       "    </tr>\n",
       "    <tr>\n",
       "      <th>2</th>\n",
       "      <td>1992-04-22</td>\n",
       "      <td>1998-03-06</td>\n",
       "      <td>2144 days</td>\n",
       "    </tr>\n",
       "    <tr>\n",
       "      <th>4</th>\n",
       "      <td>1991-02-10</td>\n",
       "      <td>1992-08-26</td>\n",
       "      <td>563 days</td>\n",
       "    </tr>\n",
       "  </tbody>\n",
       "</table>\n",
       "</div>"
      ],
      "text/plain": [
       "   order_date delivery_date Delivery Time\n",
       "ID                                       \n",
       "1  1998-05-24    1999-02-05      257 days\n",
       "2  1992-04-22    1998-03-06     2144 days\n",
       "4  1991-02-10    1992-08-26      563 days"
      ]
     },
     "execution_count": 154,
     "metadata": {},
     "output_type": "execute_result"
    }
   ],
   "source": [
    "ship.head(3)"
   ]
  },
  {
   "cell_type": "code",
   "execution_count": 158,
   "id": "b42d2f97-a465-4ce5-86ab-0fa71a29148d",
   "metadata": {},
   "outputs": [],
   "source": [
    "ship[\"twice as long\"]=ship[\"delivery_date\"]+ship[\"Delivery Time\"]"
   ]
  },
  {
   "cell_type": "code",
   "execution_count": 159,
   "id": "59f3000e-7e99-4c4b-a93b-53065cebd90b",
   "metadata": {},
   "outputs": [
    {
     "data": {
      "text/html": [
       "<div>\n",
       "<style scoped>\n",
       "    .dataframe tbody tr th:only-of-type {\n",
       "        vertical-align: middle;\n",
       "    }\n",
       "\n",
       "    .dataframe tbody tr th {\n",
       "        vertical-align: top;\n",
       "    }\n",
       "\n",
       "    .dataframe thead th {\n",
       "        text-align: right;\n",
       "    }\n",
       "</style>\n",
       "<table border=\"1\" class=\"dataframe\">\n",
       "  <thead>\n",
       "    <tr style=\"text-align: right;\">\n",
       "      <th></th>\n",
       "      <th>order_date</th>\n",
       "      <th>delivery_date</th>\n",
       "      <th>Delivery Time</th>\n",
       "      <th>twice as long</th>\n",
       "    </tr>\n",
       "    <tr>\n",
       "      <th>ID</th>\n",
       "      <th></th>\n",
       "      <th></th>\n",
       "      <th></th>\n",
       "      <th></th>\n",
       "    </tr>\n",
       "  </thead>\n",
       "  <tbody>\n",
       "    <tr>\n",
       "      <th>1</th>\n",
       "      <td>1998-05-24</td>\n",
       "      <td>1999-02-05</td>\n",
       "      <td>257 days</td>\n",
       "      <td>1999-10-20</td>\n",
       "    </tr>\n",
       "    <tr>\n",
       "      <th>2</th>\n",
       "      <td>1992-04-22</td>\n",
       "      <td>1998-03-06</td>\n",
       "      <td>2144 days</td>\n",
       "      <td>2004-01-18</td>\n",
       "    </tr>\n",
       "    <tr>\n",
       "      <th>4</th>\n",
       "      <td>1991-02-10</td>\n",
       "      <td>1992-08-26</td>\n",
       "      <td>563 days</td>\n",
       "      <td>1994-03-12</td>\n",
       "    </tr>\n",
       "    <tr>\n",
       "      <th>5</th>\n",
       "      <td>1992-07-21</td>\n",
       "      <td>1997-11-20</td>\n",
       "      <td>1948 days</td>\n",
       "      <td>2003-03-22</td>\n",
       "    </tr>\n",
       "    <tr>\n",
       "      <th>7</th>\n",
       "      <td>1993-09-02</td>\n",
       "      <td>1998-06-10</td>\n",
       "      <td>1742 days</td>\n",
       "      <td>2003-03-18</td>\n",
       "    </tr>\n",
       "  </tbody>\n",
       "</table>\n",
       "</div>"
      ],
      "text/plain": [
       "   order_date delivery_date Delivery Time twice as long\n",
       "ID                                                     \n",
       "1  1998-05-24    1999-02-05      257 days    1999-10-20\n",
       "2  1992-04-22    1998-03-06     2144 days    2004-01-18\n",
       "4  1991-02-10    1992-08-26      563 days    1994-03-12\n",
       "5  1992-07-21    1997-11-20     1948 days    2003-03-22\n",
       "7  1993-09-02    1998-06-10     1742 days    2003-03-18"
      ]
     },
     "execution_count": 159,
     "metadata": {},
     "output_type": "execute_result"
    }
   ],
   "source": [
    "ship.head()"
   ]
  },
  {
   "cell_type": "code",
   "execution_count": 161,
   "id": "6486661d-2b76-4ca5-ba82-389a104abab4",
   "metadata": {},
   "outputs": [
    {
     "data": {
      "text/plain": [
       "order_date        datetime64[ns]\n",
       "delivery_date     datetime64[ns]\n",
       "Delivery Time    timedelta64[ns]\n",
       "twice as long     datetime64[ns]\n",
       "dtype: object"
      ]
     },
     "execution_count": 161,
     "metadata": {},
     "output_type": "execute_result"
    }
   ],
   "source": [
    "ship.dtypes"
   ]
  },
  {
   "cell_type": "code",
   "execution_count": 163,
   "id": "43f74269-7a23-416b-9c65-c90f789f3226",
   "metadata": {},
   "outputs": [
    {
     "data": {
      "text/html": [
       "<div>\n",
       "<style scoped>\n",
       "    .dataframe tbody tr th:only-of-type {\n",
       "        vertical-align: middle;\n",
       "    }\n",
       "\n",
       "    .dataframe tbody tr th {\n",
       "        vertical-align: top;\n",
       "    }\n",
       "\n",
       "    .dataframe thead th {\n",
       "        text-align: right;\n",
       "    }\n",
       "</style>\n",
       "<table border=\"1\" class=\"dataframe\">\n",
       "  <thead>\n",
       "    <tr style=\"text-align: right;\">\n",
       "      <th></th>\n",
       "      <th>order_date</th>\n",
       "      <th>delivery_date</th>\n",
       "      <th>Delivery Time</th>\n",
       "      <th>twice as long</th>\n",
       "    </tr>\n",
       "    <tr>\n",
       "      <th>ID</th>\n",
       "      <th></th>\n",
       "      <th></th>\n",
       "      <th></th>\n",
       "      <th></th>\n",
       "    </tr>\n",
       "  </thead>\n",
       "  <tbody>\n",
       "    <tr>\n",
       "      <th>2</th>\n",
       "      <td>1992-04-22</td>\n",
       "      <td>1998-03-06</td>\n",
       "      <td>2144 days</td>\n",
       "      <td>2004-01-18</td>\n",
       "    </tr>\n",
       "    <tr>\n",
       "      <th>4</th>\n",
       "      <td>1991-02-10</td>\n",
       "      <td>1992-08-26</td>\n",
       "      <td>563 days</td>\n",
       "      <td>1994-03-12</td>\n",
       "    </tr>\n",
       "    <tr>\n",
       "      <th>5</th>\n",
       "      <td>1992-07-21</td>\n",
       "      <td>1997-11-20</td>\n",
       "      <td>1948 days</td>\n",
       "      <td>2003-03-22</td>\n",
       "    </tr>\n",
       "    <tr>\n",
       "      <th>7</th>\n",
       "      <td>1993-09-02</td>\n",
       "      <td>1998-06-10</td>\n",
       "      <td>1742 days</td>\n",
       "      <td>2003-03-18</td>\n",
       "    </tr>\n",
       "    <tr>\n",
       "      <th>9</th>\n",
       "      <td>1990-01-25</td>\n",
       "      <td>1994-10-02</td>\n",
       "      <td>1711 days</td>\n",
       "      <td>1999-06-09</td>\n",
       "    </tr>\n",
       "    <tr>\n",
       "      <th>...</th>\n",
       "      <td>...</td>\n",
       "      <td>...</td>\n",
       "      <td>...</td>\n",
       "      <td>...</td>\n",
       "    </tr>\n",
       "    <tr>\n",
       "      <th>986</th>\n",
       "      <td>1990-12-10</td>\n",
       "      <td>1992-12-16</td>\n",
       "      <td>737 days</td>\n",
       "      <td>1994-12-23</td>\n",
       "    </tr>\n",
       "    <tr>\n",
       "      <th>990</th>\n",
       "      <td>1991-06-24</td>\n",
       "      <td>1996-02-02</td>\n",
       "      <td>1684 days</td>\n",
       "      <td>2000-09-12</td>\n",
       "    </tr>\n",
       "    <tr>\n",
       "      <th>991</th>\n",
       "      <td>1991-09-09</td>\n",
       "      <td>1998-03-30</td>\n",
       "      <td>2394 days</td>\n",
       "      <td>2004-10-18</td>\n",
       "    </tr>\n",
       "    <tr>\n",
       "      <th>993</th>\n",
       "      <td>1990-11-16</td>\n",
       "      <td>1998-04-27</td>\n",
       "      <td>2719 days</td>\n",
       "      <td>2005-10-06</td>\n",
       "    </tr>\n",
       "    <tr>\n",
       "      <th>997</th>\n",
       "      <td>1990-01-04</td>\n",
       "      <td>1991-10-03</td>\n",
       "      <td>637 days</td>\n",
       "      <td>1993-07-01</td>\n",
       "    </tr>\n",
       "  </tbody>\n",
       "</table>\n",
       "<p>394 rows × 4 columns</p>\n",
       "</div>"
      ],
      "text/plain": [
       "    order_date delivery_date Delivery Time twice as long\n",
       "ID                                                      \n",
       "2   1992-04-22    1998-03-06     2144 days    2004-01-18\n",
       "4   1991-02-10    1992-08-26      563 days    1994-03-12\n",
       "5   1992-07-21    1997-11-20     1948 days    2003-03-22\n",
       "7   1993-09-02    1998-06-10     1742 days    2003-03-18\n",
       "9   1990-01-25    1994-10-02     1711 days    1999-06-09\n",
       "..         ...           ...           ...           ...\n",
       "986 1990-12-10    1992-12-16      737 days    1994-12-23\n",
       "990 1991-06-24    1996-02-02     1684 days    2000-09-12\n",
       "991 1991-09-09    1998-03-30     2394 days    2004-10-18\n",
       "993 1990-11-16    1998-04-27     2719 days    2005-10-06\n",
       "997 1990-01-04    1991-10-03      637 days    1993-07-01\n",
       "\n",
       "[394 rows x 4 columns]"
      ]
     },
     "execution_count": 163,
     "metadata": {},
     "output_type": "execute_result"
    }
   ],
   "source": [
    "mask=ship[\"Delivery Time\"]>\"365 days\"\n",
    "ship[mask]"
   ]
  },
  {
   "cell_type": "code",
   "execution_count": null,
   "id": "8bb582ff-eecb-4fbb-8208-48d4ed309068",
   "metadata": {},
   "outputs": [],
   "source": []
  },
  {
   "cell_type": "code",
   "execution_count": null,
   "id": "a69f9563-c68f-493c-8f70-e21f12f5c4fe",
   "metadata": {},
   "outputs": [],
   "source": []
  },
  {
   "cell_type": "code",
   "execution_count": null,
   "id": "08d5c76b-b122-467d-8904-01f033b937d8",
   "metadata": {},
   "outputs": [],
   "source": []
  },
  {
   "cell_type": "code",
   "execution_count": null,
   "id": "fd2cebb8-6c8a-4921-b07f-b3d20d3b58c6",
   "metadata": {},
   "outputs": [],
   "source": []
  },
  {
   "cell_type": "code",
   "execution_count": null,
   "id": "8b13dc7d-d230-4950-a6bb-1df03bb8ec96",
   "metadata": {},
   "outputs": [],
   "source": []
  },
  {
   "cell_type": "code",
   "execution_count": null,
   "id": "35096e78-8043-4d22-87e1-4daffb9b02ed",
   "metadata": {},
   "outputs": [],
   "source": []
  },
  {
   "cell_type": "code",
   "execution_count": null,
   "id": "010542ec-0463-4e0e-90d4-6ed8599b3b25",
   "metadata": {},
   "outputs": [],
   "source": []
  },
  {
   "cell_type": "code",
   "execution_count": null,
   "id": "3d65b98b-f081-476a-9978-4b7ba45c1e6d",
   "metadata": {},
   "outputs": [],
   "source": []
  },
  {
   "cell_type": "code",
   "execution_count": null,
   "id": "c1819ca7-f990-42dc-9f45-de2f592bc370",
   "metadata": {},
   "outputs": [],
   "source": []
  },
  {
   "cell_type": "code",
   "execution_count": null,
   "id": "bcd2c2c7-681b-4bb3-9d2c-84b545192893",
   "metadata": {},
   "outputs": [],
   "source": []
  },
  {
   "cell_type": "code",
   "execution_count": null,
   "id": "26e1fb65-f3a5-4d70-a49d-d523c5fcc137",
   "metadata": {},
   "outputs": [],
   "source": []
  },
  {
   "cell_type": "code",
   "execution_count": null,
   "id": "3da28981-9c38-4ea1-90b3-bd0d2f119e9f",
   "metadata": {},
   "outputs": [],
   "source": []
  },
  {
   "cell_type": "code",
   "execution_count": null,
   "id": "719310d2-b14b-468a-95c4-05f9ae4d447a",
   "metadata": {},
   "outputs": [],
   "source": []
  },
  {
   "cell_type": "code",
   "execution_count": null,
   "id": "54bd67b4-f79c-4a88-8f1f-1cf34c44a263",
   "metadata": {},
   "outputs": [],
   "source": []
  },
  {
   "cell_type": "code",
   "execution_count": null,
   "id": "e34cb3a9-758f-48db-a406-4267d240dcb6",
   "metadata": {},
   "outputs": [],
   "source": []
  },
  {
   "cell_type": "code",
   "execution_count": null,
   "id": "a8d0e80d-b757-4ce3-9971-23bcac7fd2d5",
   "metadata": {},
   "outputs": [],
   "source": []
  },
  {
   "cell_type": "code",
   "execution_count": null,
   "id": "f1fdc65f-6bed-42fc-b377-826079e028d0",
   "metadata": {},
   "outputs": [],
   "source": []
  },
  {
   "cell_type": "code",
   "execution_count": null,
   "id": "4175820a-36a5-43f0-a3f4-41d07e598aeb",
   "metadata": {},
   "outputs": [],
   "source": []
  },
  {
   "cell_type": "code",
   "execution_count": null,
   "id": "05a1be40-520e-4ebe-b0c5-d8d75a26bf18",
   "metadata": {},
   "outputs": [],
   "source": []
  },
  {
   "cell_type": "code",
   "execution_count": null,
   "id": "bacd2836-c8d9-44f8-93ca-7051794474ad",
   "metadata": {},
   "outputs": [],
   "source": []
  },
  {
   "cell_type": "code",
   "execution_count": null,
   "id": "d36a6ec8-0c83-45b8-993e-dd33c96fef56",
   "metadata": {},
   "outputs": [],
   "source": []
  },
  {
   "cell_type": "code",
   "execution_count": null,
   "id": "af3d5828-4c02-40f6-a057-29fe1a2ae50f",
   "metadata": {},
   "outputs": [],
   "source": []
  },
  {
   "cell_type": "code",
   "execution_count": null,
   "id": "43b28e75-68e3-47a4-8fd4-c35d9612a1ee",
   "metadata": {},
   "outputs": [],
   "source": []
  },
  {
   "cell_type": "code",
   "execution_count": null,
   "id": "c3af7b9e-316e-45f3-b67c-3e6dc8547bc2",
   "metadata": {},
   "outputs": [],
   "source": []
  },
  {
   "cell_type": "code",
   "execution_count": null,
   "id": "071a98ff-f139-4fc9-99a9-c9760cf2e18c",
   "metadata": {},
   "outputs": [],
   "source": []
  },
  {
   "cell_type": "code",
   "execution_count": null,
   "id": "5bfcb022-5545-42d7-94d2-4fb5cafabbf0",
   "metadata": {},
   "outputs": [],
   "source": []
  },
  {
   "cell_type": "code",
   "execution_count": null,
   "id": "ab7d3d77-c51f-4501-9deb-ef903438627b",
   "metadata": {},
   "outputs": [],
   "source": []
  },
  {
   "cell_type": "code",
   "execution_count": null,
   "id": "4e98ca4f-1c51-4297-b42f-527c557dc8aa",
   "metadata": {},
   "outputs": [],
   "source": []
  },
  {
   "cell_type": "code",
   "execution_count": null,
   "id": "59947564-ace9-4b56-be38-41c6a6f44b2b",
   "metadata": {},
   "outputs": [],
   "source": []
  },
  {
   "cell_type": "code",
   "execution_count": null,
   "id": "10513e26-d87b-4856-b516-93a9631ad708",
   "metadata": {},
   "outputs": [],
   "source": []
  },
  {
   "cell_type": "code",
   "execution_count": null,
   "id": "0baddecf-b61a-4df8-a60e-cacdb9e1e603",
   "metadata": {},
   "outputs": [],
   "source": []
  },
  {
   "cell_type": "code",
   "execution_count": null,
   "id": "dad89191-e5aa-4fb2-8824-84c3995739be",
   "metadata": {},
   "outputs": [],
   "source": []
  },
  {
   "cell_type": "code",
   "execution_count": null,
   "id": "77c08397-ac4e-4e20-9365-bdd6791a4e6b",
   "metadata": {},
   "outputs": [],
   "source": []
  },
  {
   "cell_type": "code",
   "execution_count": null,
   "id": "17622b75-a58e-4681-824a-e935e2e193d0",
   "metadata": {},
   "outputs": [],
   "source": []
  },
  {
   "cell_type": "code",
   "execution_count": null,
   "id": "6df5e71e-c72c-44a4-9d49-5a44c2be5a39",
   "metadata": {},
   "outputs": [],
   "source": []
  },
  {
   "cell_type": "code",
   "execution_count": null,
   "id": "023baeef-41b3-4f97-9558-98da2525e28f",
   "metadata": {},
   "outputs": [],
   "source": []
  },
  {
   "cell_type": "code",
   "execution_count": null,
   "id": "c7f057cf-e299-4c15-b39b-9bfd9d4297e6",
   "metadata": {},
   "outputs": [],
   "source": []
  },
  {
   "cell_type": "code",
   "execution_count": null,
   "id": "e91d3bad-5754-4054-aba8-ea002e258a58",
   "metadata": {},
   "outputs": [],
   "source": []
  },
  {
   "cell_type": "code",
   "execution_count": null,
   "id": "20d21ac2-b023-415a-8b5e-3409ac54601e",
   "metadata": {},
   "outputs": [],
   "source": []
  },
  {
   "cell_type": "code",
   "execution_count": null,
   "id": "4cafba8d-3ecd-4345-bfe9-d54dc3afec50",
   "metadata": {},
   "outputs": [],
   "source": []
  },
  {
   "cell_type": "code",
   "execution_count": null,
   "id": "4c9f6846-75ef-4bd8-8076-9084d92d6363",
   "metadata": {},
   "outputs": [],
   "source": []
  },
  {
   "cell_type": "code",
   "execution_count": null,
   "id": "6240b994-b673-44ed-b84e-ae19ccedc376",
   "metadata": {},
   "outputs": [],
   "source": []
  },
  {
   "cell_type": "code",
   "execution_count": null,
   "id": "9f533439-5363-48ae-8b4a-f1d4a83cc8db",
   "metadata": {},
   "outputs": [],
   "source": []
  },
  {
   "cell_type": "code",
   "execution_count": null,
   "id": "20e67e16-1542-4627-ac95-790bce3d107d",
   "metadata": {},
   "outputs": [],
   "source": []
  },
  {
   "cell_type": "code",
   "execution_count": null,
   "id": "a4e36278-1e5b-4869-aa0f-d76fadc545e0",
   "metadata": {},
   "outputs": [],
   "source": []
  },
  {
   "cell_type": "code",
   "execution_count": null,
   "id": "c8a29a2e-9922-4c98-87f3-943b0325c140",
   "metadata": {},
   "outputs": [],
   "source": []
  },
  {
   "cell_type": "code",
   "execution_count": null,
   "id": "0f48ff4f-19c6-4bf6-bfc0-3ad8ffcd5c44",
   "metadata": {},
   "outputs": [],
   "source": []
  },
  {
   "cell_type": "code",
   "execution_count": null,
   "id": "8d633c78-87df-4ed3-a97a-2dabebb9ba41",
   "metadata": {},
   "outputs": [],
   "source": []
  },
  {
   "cell_type": "code",
   "execution_count": null,
   "id": "bfbeb0f4-57f5-42c0-afd1-00ad316a4b3e",
   "metadata": {},
   "outputs": [],
   "source": []
  },
  {
   "cell_type": "code",
   "execution_count": null,
   "id": "3996ce13-b110-4439-820c-30e0719c3b6c",
   "metadata": {},
   "outputs": [],
   "source": []
  },
  {
   "cell_type": "code",
   "execution_count": null,
   "id": "50e794f4-d9b4-4ff6-95af-29c62c864280",
   "metadata": {},
   "outputs": [],
   "source": []
  },
  {
   "cell_type": "code",
   "execution_count": null,
   "id": "f2760285-376d-4ae7-856d-68616e7f661c",
   "metadata": {},
   "outputs": [],
   "source": []
  },
  {
   "cell_type": "code",
   "execution_count": null,
   "id": "e768a2c9-342f-48e6-be69-52f0fe4b7828",
   "metadata": {},
   "outputs": [],
   "source": []
  },
  {
   "cell_type": "code",
   "execution_count": null,
   "id": "29b293c7-4d6d-40c5-8399-7dde5e6c4e10",
   "metadata": {},
   "outputs": [],
   "source": []
  },
  {
   "cell_type": "code",
   "execution_count": null,
   "id": "0844655a-37a6-4301-bb3c-e098a92c0120",
   "metadata": {},
   "outputs": [],
   "source": []
  },
  {
   "cell_type": "code",
   "execution_count": null,
   "id": "0132abe9-c36e-4ecc-b44a-fd658247c0fa",
   "metadata": {},
   "outputs": [],
   "source": []
  },
  {
   "cell_type": "code",
   "execution_count": null,
   "id": "40d677b1-527f-4dbf-83cd-b3b91b1fd131",
   "metadata": {},
   "outputs": [],
   "source": []
  },
  {
   "cell_type": "code",
   "execution_count": null,
   "id": "f2464a6d-31b2-4252-a38c-d2b9f84571df",
   "metadata": {},
   "outputs": [],
   "source": []
  }
 ],
 "metadata": {
  "kernelspec": {
   "display_name": "Python 3 (ipykernel)",
   "language": "python",
   "name": "python3"
  },
  "language_info": {
   "codemirror_mode": {
    "name": "ipython",
    "version": 3
   },
   "file_extension": ".py",
   "mimetype": "text/x-python",
   "name": "python",
   "nbconvert_exporter": "python",
   "pygments_lexer": "ipython3",
   "version": "3.11.5"
  }
 },
 "nbformat": 4,
 "nbformat_minor": 5
}
